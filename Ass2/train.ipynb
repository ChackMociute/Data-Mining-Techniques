{
 "cells": [
  {
   "cell_type": "code",
   "execution_count": 1,
   "id": "447b623d-b98b-461b-9472-40066387b375",
   "metadata": {
    "tags": []
   },
   "outputs": [],
   "source": [
    "import pickle\n",
    "import warnings\n",
    "import torch\n",
    "import torch.nn as nn\n",
    "import pandas as pd\n",
    "import numpy as np\n",
    "import matplotlib.pyplot as plt\n",
    "\n",
    "from utils import *\n",
    "from gc import collect\n",
    "from sklearn.ensemble import RandomForestClassifier\n",
    "from sklearn.model_selection import RandomizedSearchCV\n",
    "from sklearn.metrics import classification_report\n",
    "\n",
    "\n",
    "\n",
    "warnings.filterwarnings(\"ignore\", message=\"X does not have valid feature names, but IncrementalPCA was fitted with feature names\")\n",
    "pd.options.mode.chained_assignment = None"
   ]
  },
  {
   "cell_type": "code",
   "execution_count": 2,
   "id": "07727d5b-bf88-4f30-97f7-4e9c4d6701dd",
   "metadata": {
    "tags": []
   },
   "outputs": [
    {
     "data": {
      "text/html": [
       "<div>\n",
       "<style scoped>\n",
       "    .dataframe tbody tr th:only-of-type {\n",
       "        vertical-align: middle;\n",
       "    }\n",
       "\n",
       "    .dataframe tbody tr th {\n",
       "        vertical-align: top;\n",
       "    }\n",
       "\n",
       "    .dataframe thead th {\n",
       "        text-align: right;\n",
       "    }\n",
       "</style>\n",
       "<table border=\"1\" class=\"dataframe\">\n",
       "  <thead>\n",
       "    <tr style=\"text-align: right;\">\n",
       "      <th></th>\n",
       "      <th>srch_id</th>\n",
       "      <th>visitor_hist_starrating</th>\n",
       "      <th>visitor_hist_adr_usd</th>\n",
       "      <th>prop_id</th>\n",
       "      <th>prop_starrating</th>\n",
       "      <th>prop_review_score</th>\n",
       "      <th>prop_brand_bool</th>\n",
       "      <th>prop_location_score1</th>\n",
       "      <th>prop_location_score2</th>\n",
       "      <th>prop_log_historical_price</th>\n",
       "      <th>...</th>\n",
       "      <th>comp3_rate_missing</th>\n",
       "      <th>comp4_rate_missing</th>\n",
       "      <th>comp5_rate_missing</th>\n",
       "      <th>comp6_rate_missing</th>\n",
       "      <th>comp7_rate_missing</th>\n",
       "      <th>comp8_rate_missing</th>\n",
       "      <th>year</th>\n",
       "      <th>month</th>\n",
       "      <th>day</th>\n",
       "      <th>time</th>\n",
       "    </tr>\n",
       "  </thead>\n",
       "  <tbody>\n",
       "    <tr>\n",
       "      <th>0</th>\n",
       "      <td>1</td>\n",
       "      <td>-1.0</td>\n",
       "      <td>-1.0</td>\n",
       "      <td>893</td>\n",
       "      <td>3</td>\n",
       "      <td>3.5</td>\n",
       "      <td>1</td>\n",
       "      <td>2.83</td>\n",
       "      <td>0.0438</td>\n",
       "      <td>4.95</td>\n",
       "      <td>...</td>\n",
       "      <td>0</td>\n",
       "      <td>1</td>\n",
       "      <td>0</td>\n",
       "      <td>1</td>\n",
       "      <td>1</td>\n",
       "      <td>0</td>\n",
       "      <td>13</td>\n",
       "      <td>4</td>\n",
       "      <td>4</td>\n",
       "      <td>0.355729</td>\n",
       "    </tr>\n",
       "    <tr>\n",
       "      <th>1</th>\n",
       "      <td>1</td>\n",
       "      <td>-1.0</td>\n",
       "      <td>-1.0</td>\n",
       "      <td>10404</td>\n",
       "      <td>4</td>\n",
       "      <td>4.0</td>\n",
       "      <td>1</td>\n",
       "      <td>2.20</td>\n",
       "      <td>0.0149</td>\n",
       "      <td>5.03</td>\n",
       "      <td>...</td>\n",
       "      <td>0</td>\n",
       "      <td>1</td>\n",
       "      <td>0</td>\n",
       "      <td>1</td>\n",
       "      <td>1</td>\n",
       "      <td>0</td>\n",
       "      <td>13</td>\n",
       "      <td>4</td>\n",
       "      <td>4</td>\n",
       "      <td>0.355729</td>\n",
       "    </tr>\n",
       "    <tr>\n",
       "      <th>2</th>\n",
       "      <td>1</td>\n",
       "      <td>-1.0</td>\n",
       "      <td>-1.0</td>\n",
       "      <td>21315</td>\n",
       "      <td>3</td>\n",
       "      <td>4.5</td>\n",
       "      <td>1</td>\n",
       "      <td>2.20</td>\n",
       "      <td>0.0245</td>\n",
       "      <td>4.92</td>\n",
       "      <td>...</td>\n",
       "      <td>0</td>\n",
       "      <td>1</td>\n",
       "      <td>0</td>\n",
       "      <td>1</td>\n",
       "      <td>1</td>\n",
       "      <td>0</td>\n",
       "      <td>13</td>\n",
       "      <td>4</td>\n",
       "      <td>4</td>\n",
       "      <td>0.355729</td>\n",
       "    </tr>\n",
       "    <tr>\n",
       "      <th>3</th>\n",
       "      <td>1</td>\n",
       "      <td>-1.0</td>\n",
       "      <td>-1.0</td>\n",
       "      <td>27348</td>\n",
       "      <td>2</td>\n",
       "      <td>4.0</td>\n",
       "      <td>1</td>\n",
       "      <td>2.83</td>\n",
       "      <td>0.0125</td>\n",
       "      <td>4.39</td>\n",
       "      <td>...</td>\n",
       "      <td>0</td>\n",
       "      <td>1</td>\n",
       "      <td>0</td>\n",
       "      <td>1</td>\n",
       "      <td>1</td>\n",
       "      <td>0</td>\n",
       "      <td>13</td>\n",
       "      <td>4</td>\n",
       "      <td>4</td>\n",
       "      <td>0.355729</td>\n",
       "    </tr>\n",
       "    <tr>\n",
       "      <th>4</th>\n",
       "      <td>1</td>\n",
       "      <td>-1.0</td>\n",
       "      <td>-1.0</td>\n",
       "      <td>29604</td>\n",
       "      <td>4</td>\n",
       "      <td>3.5</td>\n",
       "      <td>1</td>\n",
       "      <td>2.64</td>\n",
       "      <td>0.1241</td>\n",
       "      <td>4.93</td>\n",
       "      <td>...</td>\n",
       "      <td>0</td>\n",
       "      <td>1</td>\n",
       "      <td>0</td>\n",
       "      <td>1</td>\n",
       "      <td>1</td>\n",
       "      <td>0</td>\n",
       "      <td>13</td>\n",
       "      <td>4</td>\n",
       "      <td>4</td>\n",
       "      <td>0.355729</td>\n",
       "    </tr>\n",
       "  </tbody>\n",
       "</table>\n",
       "<p>5 rows × 62 columns</p>\n",
       "</div>"
      ],
      "text/plain": [
       "   srch_id  visitor_hist_starrating  visitor_hist_adr_usd  prop_id  \\\n",
       "0        1                     -1.0                  -1.0      893   \n",
       "1        1                     -1.0                  -1.0    10404   \n",
       "2        1                     -1.0                  -1.0    21315   \n",
       "3        1                     -1.0                  -1.0    27348   \n",
       "4        1                     -1.0                  -1.0    29604   \n",
       "\n",
       "   prop_starrating  prop_review_score  prop_brand_bool  prop_location_score1  \\\n",
       "0                3                3.5                1                  2.83   \n",
       "1                4                4.0                1                  2.20   \n",
       "2                3                4.5                1                  2.20   \n",
       "3                2                4.0                1                  2.83   \n",
       "4                4                3.5                1                  2.64   \n",
       "\n",
       "   prop_location_score2  prop_log_historical_price  ...  comp3_rate_missing  \\\n",
       "0                0.0438                       4.95  ...                   0   \n",
       "1                0.0149                       5.03  ...                   0   \n",
       "2                0.0245                       4.92  ...                   0   \n",
       "3                0.0125                       4.39  ...                   0   \n",
       "4                0.1241                       4.93  ...                   0   \n",
       "\n",
       "   comp4_rate_missing  comp5_rate_missing  comp6_rate_missing  \\\n",
       "0                   1                   0                   1   \n",
       "1                   1                   0                   1   \n",
       "2                   1                   0                   1   \n",
       "3                   1                   0                   1   \n",
       "4                   1                   0                   1   \n",
       "\n",
       "   comp7_rate_missing  comp8_rate_missing  year  month  day      time  \n",
       "0                   1                   0    13      4    4  0.355729  \n",
       "1                   1                   0    13      4    4  0.355729  \n",
       "2                   1                   0    13      4    4  0.355729  \n",
       "3                   1                   0    13      4    4  0.355729  \n",
       "4                   1                   0    13      4    4  0.355729  \n",
       "\n",
       "[5 rows x 62 columns]"
      ]
     },
     "execution_count": 2,
     "metadata": {},
     "output_type": "execute_result"
    }
   ],
   "source": [
    "full = pd.read_csv('data/training_set_VU_DM.csv', parse_dates=['date_time'])\n",
    "enc = np.load('data/enc_train.npy')\n",
    "\n",
    "full = full.drop(columns=['site_id', 'visitor_location_country_id', 'prop_country_id'])\n",
    "full = clean(split_time(fillnans(full))).reset_index(drop=True)\n",
    "full.head()"
   ]
  },
  {
   "cell_type": "raw",
   "id": "1470aec5-55db-4db9-8629-1e3eb5cf4360",
   "metadata": {
    "tags": []
   },
   "source": [
    "# Find the number of principal components needed \n",
    "pca = PCA()\n",
    "pca.fit(pd.get_dummies(df, columns=['site_id', 'visitor_location_country_id', 'prop_country_id'], dtype=int).iloc[:,62:])\n",
    "(pca.explained_variance_ratio_.cumsum() < 0.99).sum() # =163"
   ]
  },
  {
   "cell_type": "markdown",
   "id": "2cede48b-66a8-43e3-bffa-e3cc11dd9fbb",
   "metadata": {
    "jp-MarkdownHeadingCollapsed": true,
    "tags": []
   },
   "source": [
    "### Regression NN"
   ]
  },
  {
   "cell_type": "code",
   "execution_count": 4,
   "id": "f4a798e9-ec1d-47e3-b68a-a108af9bc6dc",
   "metadata": {
    "tags": []
   },
   "outputs": [],
   "source": [
    "net = nn.Sequential(\n",
    "    nn.BatchNorm1d(220),\n",
    "    nn.Linear(220, 1024),\n",
    "    nn.ReLU(),\n",
    "    nn.Dropout(0.3),\n",
    "    nn.Linear(1024, 512),\n",
    "    nn.ReLU(),\n",
    "    nn.Dropout(0.3),\n",
    "    nn.Linear(512, 2048),\n",
    "    nn.ReLU(),\n",
    "    nn.Dropout(0.3),\n",
    "    nn.Linear(2048, 1024),\n",
    "    nn.ReLU(),\n",
    "    nn.Dropout(0.3),\n",
    "    nn.Linear(1024, 512),\n",
    "    nn.ReLU(),\n",
    "    nn.Dropout(0.3),\n",
    "    nn.BatchNorm1d(512),\n",
    "    nn.Linear(512, 128),\n",
    "    nn.ReLU(),\n",
    "    nn.Dropout(0.3),\n",
    "    nn.Linear(128, 1)\n",
    ").to('cuda')\n",
    "\n",
    "optimizer = torch.optim.Adam([p for p in net.parameters() if p.requires_grad], lr=3e-4, weight_decay=1e-4)\n",
    "criterion = nn.MSELoss()"
   ]
  },
  {
   "cell_type": "code",
   "execution_count": 55,
   "id": "ecb84dcd-4914-495a-a9da-0cbab41a4e54",
   "metadata": {
    "tags": []
   },
   "outputs": [
    {
     "name": "stderr",
     "output_type": "stream",
     "text": [
      "100%|██████████████████████████████████████████████████████████████████████████████| 4842/4842 [02:49<00:00, 28.65it/s]\n"
     ]
    },
    {
     "name": "stdout",
     "output_type": "stream",
     "text": [
      "tensor(0.6523)\n"
     ]
    },
    {
     "name": "stderr",
     "output_type": "stream",
     "text": [
      "100%|██████████████████████████████████████████████████████████████████████████████| 4842/4842 [02:58<00:00, 27.14it/s]\n"
     ]
    },
    {
     "name": "stdout",
     "output_type": "stream",
     "text": [
      "tensor(0.6337)\n"
     ]
    },
    {
     "name": "stderr",
     "output_type": "stream",
     "text": [
      "100%|██████████████████████████████████████████████████████████████████████████████| 4842/4842 [02:54<00:00, 27.71it/s]\n"
     ]
    },
    {
     "name": "stdout",
     "output_type": "stream",
     "text": [
      "tensor(0.6296)\n"
     ]
    },
    {
     "name": "stderr",
     "output_type": "stream",
     "text": [
      "100%|██████████████████████████████████████████████████████████████████████████████| 4842/4842 [03:14<00:00, 24.92it/s]\n"
     ]
    },
    {
     "name": "stdout",
     "output_type": "stream",
     "text": [
      "tensor(0.6276)\n"
     ]
    },
    {
     "name": "stderr",
     "output_type": "stream",
     "text": [
      "100%|██████████████████████████████████████████████████████████████████████████████| 4842/4842 [03:41<00:00, 21.88it/s]\n"
     ]
    },
    {
     "name": "stdout",
     "output_type": "stream",
     "text": [
      "tensor(0.6264)\n"
     ]
    }
   ],
   "source": [
    "EPOCHS = 5\n",
    "\n",
    "losses = list()\n",
    "for i in range(EPOCHS):\n",
    "    net.train\n",
    "    data.shuffle()\n",
    "    l = train(net, optimizer, criterion, data)\n",
    "    losses.extend(l)\n",
    "    print(sum(l)/len(l))"
   ]
  },
  {
   "cell_type": "code",
   "execution_count": 56,
   "id": "35690507-b055-4f60-b137-61a03d4e7405",
   "metadata": {
    "tags": []
   },
   "outputs": [
    {
     "data": {
      "image/png": "[encoded data removed]",
      "text/plain": [
       "<Figure size 640x480 with 1 Axes>"
      ]
     },
     "metadata": {},
     "output_type": "display_data"
    }
   ],
   "source": [
    "plot_loss(losses, 'MLP')\n",
    "plt.show()"
   ]
  },
  {
   "cell_type": "raw",
   "id": "3895dfbf-3cc4-426b-b188-4c9c907ecf4d",
   "metadata": {
    "tags": []
   },
   "source": [
    "torch.save(net, 'models/MLP_reg.pt')"
   ]
  },
  {
   "cell_type": "markdown",
   "id": "1ca6b996-9c19-48fe-aee9-52778d12a127",
   "metadata": {
    "jp-MarkdownHeadingCollapsed": true,
    "tags": []
   },
   "source": [
    "### Classification NN"
   ]
  },
  {
   "cell_type": "code",
   "execution_count": 37,
   "id": "f11841e5-59e1-48bb-9f88-a3f0f3ec4ce8",
   "metadata": {
    "tags": []
   },
   "outputs": [],
   "source": [
    "net = nn.Sequential(\n",
    "    nn.BatchNorm1d(220),\n",
    "    nn.Linear(220, 1024),\n",
    "    nn.ReLU(),\n",
    "    nn.Dropout(0.3),\n",
    "    nn.Linear(1024, 512),\n",
    "    nn.ReLU(),\n",
    "    nn.Dropout(0.3),\n",
    "    nn.Linear(512, 2048),\n",
    "    nn.ReLU(),\n",
    "    nn.Dropout(0.3),\n",
    "    nn.Linear(2048, 1024),\n",
    "    nn.ReLU(),\n",
    "    nn.Dropout(0.3),\n",
    "    nn.Linear(1024, 512),\n",
    "    nn.ReLU(),\n",
    "    nn.Dropout(0.3),\n",
    "    nn.BatchNorm1d(512),\n",
    "    nn.Linear(512, 128),\n",
    "    nn.ReLU(),\n",
    "    nn.Dropout(0.3),\n",
    "    nn.Linear(128, 3),\n",
    "    nn.LogSoftmax(dim=1)\n",
    ").to('cuda')\n",
    "\n",
    "optimizer = torch.optim.Adam([p for p in net.parameters() if p.requires_grad], lr=3e-4, weight_decay=1e-4)\n",
    "criterion = nn.NLLLoss(weight=torch.tensor([1, 5, 10], dtype=torch.float32, device='cuda'))\n",
    "\n",
    "bs = 1024\n",
    "data = DataLoader(full, bs)"
   ]
  },
  {
   "cell_type": "code",
   "execution_count": 55,
   "id": "ed06f2b3-2a6d-4654-977d-932aae3066d5",
   "metadata": {
    "tags": []
   },
   "outputs": [
    {
     "name": "stderr",
     "output_type": "stream",
     "text": [
      "100%|██████████████████████████████████████████████████████████████████████████████| 4842/4842 [02:49<00:00, 28.65it/s]\n"
     ]
    },
    {
     "name": "stdout",
     "output_type": "stream",
     "text": [
      "tensor(0.6523)\n"
     ]
    },
    {
     "name": "stderr",
     "output_type": "stream",
     "text": [
      "100%|██████████████████████████████████████████████████████████████████████████████| 4842/4842 [02:58<00:00, 27.14it/s]\n"
     ]
    },
    {
     "name": "stdout",
     "output_type": "stream",
     "text": [
      "tensor(0.6337)\n"
     ]
    },
    {
     "name": "stderr",
     "output_type": "stream",
     "text": [
      "100%|██████████████████████████████████████████████████████████████████████████████| 4842/4842 [02:54<00:00, 27.71it/s]\n"
     ]
    },
    {
     "name": "stdout",
     "output_type": "stream",
     "text": [
      "tensor(0.6296)\n"
     ]
    },
    {
     "name": "stderr",
     "output_type": "stream",
     "text": [
      "100%|██████████████████████████████████████████████████████████████████████████████| 4842/4842 [03:14<00:00, 24.92it/s]\n"
     ]
    },
    {
     "name": "stdout",
     "output_type": "stream",
     "text": [
      "tensor(0.6276)\n"
     ]
    },
    {
     "name": "stderr",
     "output_type": "stream",
     "text": [
      "100%|██████████████████████████████████████████████████████████████████████████████| 4842/4842 [03:41<00:00, 21.88it/s]\n"
     ]
    },
    {
     "name": "stdout",
     "output_type": "stream",
     "text": [
      "tensor(0.6264)\n"
     ]
    }
   ],
   "source": [
    "EPOCHS = 5\n",
    "\n",
    "losses = list()\n",
    "for i in range(EPOCHS):\n",
    "    net.train\n",
    "    data.shuffle()\n",
    "    l = train(net, optimizer, criterion, data, r=False)\n",
    "    losses.extend(l)\n",
    "    print(sum(l)/len(l))"
   ]
  },
  {
   "cell_type": "code",
   "execution_count": 56,
   "id": "d88f4b68-9a88-40b5-bdf0-418c2061dfdd",
   "metadata": {
    "tags": []
   },
   "outputs": [
    {
     "data": {
      "image/png": "[encoded data removed]",
      "text/plain": [
       "<Figure size 640x480 with 1 Axes>"
      ]
     },
     "metadata": {},
     "output_type": "display_data"
    }
   ],
   "source": [
    "plot_loss(losses, 'MLP')\n",
    "plt.show()"
   ]
  },
  {
   "cell_type": "raw",
   "id": "5013ccfe-7489-480d-b5d7-2b79f377ea42",
   "metadata": {
    "tags": []
   },
   "source": [
    "torch.save(net, 'models/MLP_class.pt')"
   ]
  },
  {
   "cell_type": "markdown",
   "id": "2aa555e9-986d-4a22-a79a-def45e096136",
   "metadata": {},
   "source": [
    "### Random forest"
   ]
  },
  {
   "cell_type": "markdown",
   "id": "ac519fcd-af45-4c5c-926e-eaf3c35819ea",
   "metadata": {
    "jp-MarkdownHeadingCollapsed": true,
    "tags": []
   },
   "source": [
    "##### Hyperparameter tuning"
   ]
  },
  {
   "cell_type": "code",
   "execution_count": null,
   "id": "25b793ad-7699-49b8-9a00-d32e1f785a0c",
   "metadata": {
    "tags": []
   },
   "outputs": [],
   "source": [
    "rf = RandomForestClassifier(class_weight={0: 1, 1: 15, 2: 30})\n",
    "grid = dict(\n",
    "    n_estimators=range(50, 151, 25),\n",
    "    max_depth=range(3, 10, 2),\n",
    "    ccp_alpha=[0, 1e-1, 1e-2, 1e-3, 1e-4, 1e-5]\n",
    ")\n",
    "rf = RandomizedSearchCV(rf, grid, cv=3, scoring='f1_macro', n_iter=6, n_jobs=4)\n",
    "rf.fit(*pipeline(full.sample(frac=0.2), enc, regression=False, ret='numpy'))"
   ]
  },
  {
   "cell_type": "code",
   "execution_count": 7,
   "id": "121ec779-008d-4e89-9af2-4ef894dc9081",
   "metadata": {
    "tags": []
   },
   "outputs": [
    {
     "data": {
      "text/plain": [
       "{'n_estimators': 50, 'max_depth': 3, 'ccp_alpha': 1e-05}"
      ]
     },
     "execution_count": 7,
     "metadata": {},
     "output_type": "execute_result"
    }
   ],
   "source": [
    "rf.best_params_\n",
    "# {'n_estimators': 50, 'max_depth': 3, 'ccp_alpha': 1e-05}"
   ]
  },
  {
   "cell_type": "code",
   "execution_count": 24,
   "id": "e0892d3f-b9a0-47d5-94c6-183278498ae6",
   "metadata": {
    "tags": []
   },
   "outputs": [
    {
     "data": {
      "text/plain": [
       "{'mean_fit_time': array([ 643.84064078, 1257.73229376,  429.61145679,  445.25928124,\n",
       "         813.26557541,  145.17661166]),\n",
       " 'std_fit_time': array([ 5.79680527,  7.20339834, 11.76421554, 87.28254363, 15.43636166,\n",
       "         9.42623269]),\n",
       " 'mean_score_time': array([ 7.7274785 , 12.36861753,  4.41931574,  2.08732255,  6.47897045,\n",
       "         2.4156599 ]),\n",
       " 'std_score_time': array([0.22518925, 0.91602329, 2.09578066, 1.47641725, 1.14712072,\n",
       "        0.31514727]),\n",
       " 'param_n_estimators': masked_array(data=[75, 150, 50, 100, 100, 50],\n",
       "              mask=[False, False, False, False, False, False],\n",
       "        fill_value='?',\n",
       "             dtype=object),\n",
       " 'param_max_depth': masked_array(data=[9, 9, 9, 5, 9, 3],\n",
       "              mask=[False, False, False, False, False, False],\n",
       "        fill_value='?',\n",
       "             dtype=object),\n",
       " 'param_ccp_alpha': masked_array(data=[0, 0, 0.001, 0.1, 1e-05, 1e-05],\n",
       "              mask=[False, False, False, False, False, False],\n",
       "        fill_value='?',\n",
       "             dtype=object),\n",
       " 'params': [{'n_estimators': 75, 'max_depth': 9, 'ccp_alpha': 0},\n",
       "  {'n_estimators': 150, 'max_depth': 9, 'ccp_alpha': 0},\n",
       "  {'n_estimators': 50, 'max_depth': 9, 'ccp_alpha': 0.001},\n",
       "  {'n_estimators': 100, 'max_depth': 5, 'ccp_alpha': 0.1},\n",
       "  {'n_estimators': 100, 'max_depth': 9, 'ccp_alpha': 1e-05},\n",
       "  {'n_estimators': 50, 'max_depth': 3, 'ccp_alpha': 1e-05}],\n",
       " 'split0_test_score': array([0.31429013, 0.31418736, 0.30414885, 0.32569374, 0.31449424,\n",
       "        0.33381632]),\n",
       " 'split1_test_score': array([0.31790068, 0.31860216, 0.30904478,        nan, 0.31706332,\n",
       "        0.33589133]),\n",
       " 'split2_test_score': array([0.31575002, 0.31738394, 0.31007619, 0.32569424, 0.31389261,\n",
       "        0.34977532]),\n",
       " 'mean_test_score': array([0.31598028, 0.31672449, 0.30775661,        nan, 0.31515006,\n",
       "        0.33982766]),\n",
       " 'std_test_score': array([0.00148297, 0.00186168, 0.00258559,        nan, 0.00137499,\n",
       "        0.00708488]),\n",
       " 'rank_test_score': array([3, 2, 5, 6, 4, 1])}"
      ]
     },
     "execution_count": 24,
     "metadata": {},
     "output_type": "execute_result"
    }
   ],
   "source": [
    "rf.cv_results_\n",
    "# {'mean_fit_time': array([ 643.84064078, 1257.73229376,  429.61145679,  445.25928124,\n",
    "#          813.26557541,  145.17661166]),\n",
    "#  'std_fit_time': array([ 5.79680527,  7.20339834, 11.76421554, 87.28254363, 15.43636166,\n",
    "#          9.42623269]),\n",
    "#  'mean_score_time': array([ 7.7274785 , 12.36861753,  4.41931574,  2.08732255,  6.47897045,\n",
    "#          2.4156599 ]),\n",
    "#  'std_score_time': array([0.22518925, 0.91602329, 2.09578066, 1.47641725, 1.14712072,\n",
    "#         0.31514727]),\n",
    "#  'param_n_estimators': masked_array(data=[75, 150, 50, 100, 100, 50],\n",
    "#               mask=[False, False, False, False, False, False],\n",
    "#         fill_value='?',\n",
    "#              dtype=object),\n",
    "#  'param_max_depth': masked_array(data=[9, 9, 9, 5, 9, 3],\n",
    "#               mask=[False, False, False, False, False, False],\n",
    "#         fill_value='?',\n",
    "#              dtype=object),\n",
    "#  'param_ccp_alpha': masked_array(data=[0, 0, 0.001, 0.1, 1e-05, 1e-05],\n",
    "#               mask=[False, False, False, False, False, False],\n",
    "#         fill_value='?',\n",
    "#              dtype=object),\n",
    "#  'params': [{'n_estimators': 75, 'max_depth': 9, 'ccp_alpha': 0},\n",
    "#   {'n_estimators': 150, 'max_depth': 9, 'ccp_alpha': 0},\n",
    "#   {'n_estimators': 50, 'max_depth': 9, 'ccp_alpha': 0.001},\n",
    "#   {'n_estimators': 100, 'max_depth': 5, 'ccp_alpha': 0.1},\n",
    "#   {'n_estimators': 100, 'max_depth': 9, 'ccp_alpha': 1e-05},\n",
    "#   {'n_estimators': 50, 'max_depth': 3, 'ccp_alpha': 1e-05}],\n",
    "#  'split0_test_score': array([0.31429013, 0.31418736, 0.30414885, 0.32569374, 0.31449424,\n",
    "#         0.33381632]),\n",
    "#  'split1_test_score': array([0.31790068, 0.31860216, 0.30904478,        nan, 0.31706332,\n",
    "#         0.33589133]),\n",
    "#  'split2_test_score': array([0.31575002, 0.31738394, 0.31007619, 0.32569424, 0.31389261,\n",
    "#         0.34977532]),\n",
    "#  'mean_test_score': array([0.31598028, 0.31672449, 0.30775661,        nan, 0.31515006,\n",
    "#         0.33982766]),\n",
    "#  'std_test_score': array([0.00148297, 0.00186168, 0.00258559,        nan, 0.00137499,\n",
    "#         0.00708488]),\n",
    "#  'rank_test_score': array([3, 2, 5, 6, 4, 1])}"
   ]
  },
  {
   "cell_type": "code",
   "execution_count": 111,
   "id": "43eb081c-6137-4ecd-a578-d17956cc285b",
   "metadata": {
    "tags": []
   },
   "outputs": [
    {
     "data": {
      "text/plain": [
       "{'n_estimators': 150, 'max_depth': 17, 'ccp_alpha': 0.01}"
      ]
     },
     "execution_count": 111,
     "metadata": {},
     "output_type": "execute_result"
    }
   ],
   "source": [
    "rf.best_params_\n",
    "# {'n_estimators': 150, 'max_depth': 17, 'ccp_alpha': 0.01}"
   ]
  },
  {
   "cell_type": "code",
   "execution_count": 121,
   "id": "974cd032-a2c0-4cc2-87fc-975cf9dc5c61",
   "metadata": {
    "tags": []
   },
   "outputs": [
    {
     "data": {
      "text/plain": [
       "{'mean_fit_time': array([ 532.65998745,  987.80120349,  261.76636759,  409.74045205,\n",
       "        1305.05142744,  522.79907115,  692.75769575,  568.40426135,\n",
       "         153.94705788,  601.19843348]),\n",
       " 'std_fit_time': array([55.37105425, 80.24138528, 13.39016069,  4.74820182, 51.6097449 ,\n",
       "        16.09744018,  7.51957552, 28.70440148,  2.72870464, 39.37195328]),\n",
       " 'mean_score_time': array([4.57506665, 9.97573566, 2.95933779, 3.00067385, 4.05100203,\n",
       "        1.457002  , 5.38554939, 2.47559627, 2.17474858, 1.85965697]),\n",
       " 'std_score_time': array([0.16864901, 0.45534029, 0.47085418, 0.08152517, 0.57337588,\n",
       "        0.04129388, 0.02984091, 0.11958048, 0.03572778, 0.04945915]),\n",
       " 'param_n_estimators': masked_array(data=[100, 150, 50, 50, 150, 75, 100, 100, 50, 100],\n",
       "              mask=[False, False, False, False, False, False, False, False,\n",
       "                    False, False],\n",
       "        fill_value='?',\n",
       "             dtype=object),\n",
       " 'param_max_depth': masked_array(data=[11, 14, 8, 14, 17, 17, 14, 11, 5, 14],\n",
       "              mask=[False, False, False, False, False, False, False, False,\n",
       "                    False, False],\n",
       "        fill_value='?',\n",
       "             dtype=object),\n",
       " 'param_ccp_alpha': masked_array(data=[0.0001, 0, 0.0001, 0.0001, 0.01, 0.1, 0.0001, 0.01,\n",
       "                    0.0001, 0.1],\n",
       "              mask=[False, False, False, False, False, False, False, False,\n",
       "                    False, False],\n",
       "        fill_value='?',\n",
       "             dtype=object),\n",
       " 'params': [{'n_estimators': 100, 'max_depth': 11, 'ccp_alpha': 0.0001},\n",
       "  {'n_estimators': 150, 'max_depth': 14, 'ccp_alpha': 0},\n",
       "  {'n_estimators': 50, 'max_depth': 8, 'ccp_alpha': 0.0001},\n",
       "  {'n_estimators': 50, 'max_depth': 14, 'ccp_alpha': 0.0001},\n",
       "  {'n_estimators': 150, 'max_depth': 17, 'ccp_alpha': 0.01},\n",
       "  {'n_estimators': 75, 'max_depth': 17, 'ccp_alpha': 0.1},\n",
       "  {'n_estimators': 100, 'max_depth': 14, 'ccp_alpha': 0.0001},\n",
       "  {'n_estimators': 100, 'max_depth': 11, 'ccp_alpha': 0.01},\n",
       "  {'n_estimators': 50, 'max_depth': 5, 'ccp_alpha': 0.0001},\n",
       "  {'n_estimators': 100, 'max_depth': 14, 'ccp_alpha': 0.1}],\n",
       " 'split0_test_score': array([0.80800654, 0.83818991, 0.85339809, 0.80375817, 0.95518034,\n",
       "        0.95518034, 0.80511075, 0.95518034, 0.93831094, 0.95518034]),\n",
       " 'split1_test_score': array([0.81193416, 0.83175079, 0.85437848, 0.80264464, 0.95518034,\n",
       "        0.95518034, 0.80154624, 0.95518034, 0.93635621, 0.95518034]),\n",
       " 'split2_test_score': array([0.83089697, 0.84456198, 0.85963405, 0.80920422, 0.95518323,\n",
       "        0.95518323, 0.80304649, 0.95518323, 0.93807473, 0.95518323]),\n",
       " 'mean_test_score': array([0.81694589, 0.83816756, 0.85580354, 0.80520234, 0.95518131,\n",
       "        0.95518131, 0.80323449, 0.95518131, 0.93758063, 0.95518131]),\n",
       " 'std_test_score': array([9.99436807e-03, 5.23017336e-03, 2.73799054e-03, 2.86603532e-03,\n",
       "        1.36249605e-06, 1.36249605e-06, 1.46126561e-03, 1.36249605e-06,\n",
       "        8.71148715e-04, 1.36249605e-06]),\n",
       " 'rank_test_score': array([ 8,  7,  6,  9,  1,  1, 10,  1,  5,  1])}"
      ]
     },
     "execution_count": 121,
     "metadata": {},
     "output_type": "execute_result"
    }
   ],
   "source": [
    "rf.cv_results_\n",
    "# {'mean_fit_time': array([ 532.65998745,  987.80120349,  261.76636759,  409.74045205,\n",
    "#         1305.05142744,  522.79907115,  692.75769575,  568.40426135,\n",
    "#          153.94705788,  601.19843348]),\n",
    "#  'std_fit_time': array([55.37105425, 80.24138528, 13.39016069,  4.74820182, 51.6097449 ,\n",
    "#         16.09744018,  7.51957552, 28.70440148,  2.72870464, 39.37195328]),\n",
    "#  'mean_score_time': array([4.57506665, 9.97573566, 2.95933779, 3.00067385, 4.05100203,\n",
    "#         1.457002  , 5.38554939, 2.47559627, 2.17474858, 1.85965697]),\n",
    "#  'std_score_time': array([0.16864901, 0.45534029, 0.47085418, 0.08152517, 0.57337588,\n",
    "#         0.04129388, 0.02984091, 0.11958048, 0.03572778, 0.04945915]),\n",
    "#  'param_n_estimators': masked_array(data=[100, 150, 50, 50, 150, 75, 100, 100, 50, 100],\n",
    "#               mask=[False, False, False, False, False, False, False, False,\n",
    "#                     False, False],\n",
    "#         fill_value='?',\n",
    "#              dtype=object),\n",
    "#  'param_max_depth': masked_array(data=[11, 14, 8, 14, 17, 17, 14, 11, 5, 14],\n",
    "#               mask=[False, False, False, False, False, False, False, False,\n",
    "#                     False, False],\n",
    "#         fill_value='?',\n",
    "#              dtype=object),\n",
    "#  'param_ccp_alpha': masked_array(data=[0.0001, 0, 0.0001, 0.0001, 0.01, 0.1, 0.0001, 0.01,\n",
    "#                     0.0001, 0.1],\n",
    "#               mask=[False, False, False, False, False, False, False, False,\n",
    "#                     False, False],\n",
    "#         fill_value='?',\n",
    "#              dtype=object),\n",
    "#  'params': [{'n_estimators': 100, 'max_depth': 11, 'ccp_alpha': 0.0001},\n",
    "#   {'n_estimators': 150, 'max_depth': 14, 'ccp_alpha': 0},\n",
    "#   {'n_estimators': 50, 'max_depth': 8, 'ccp_alpha': 0.0001},\n",
    "#   {'n_estimators': 50, 'max_depth': 14, 'ccp_alpha': 0.0001},\n",
    "#   {'n_estimators': 150, 'max_depth': 17, 'ccp_alpha': 0.01},\n",
    "#   {'n_estimators': 75, 'max_depth': 17, 'ccp_alpha': 0.1},\n",
    "#   {'n_estimators': 100, 'max_depth': 14, 'ccp_alpha': 0.0001},\n",
    "#   {'n_estimators': 100, 'max_depth': 11, 'ccp_alpha': 0.01},\n",
    "#   {'n_estimators': 50, 'max_depth': 5, 'ccp_alpha': 0.0001},\n",
    "#   {'n_estimators': 100, 'max_depth': 14, 'ccp_alpha': 0.1}],\n",
    "#  'split0_test_score': array([0.80800654, 0.83818991, 0.85339809, 0.80375817, 0.95518034,\n",
    "#         0.95518034, 0.80511075, 0.95518034, 0.93831094, 0.95518034]),\n",
    "#  'split1_test_score': array([0.81193416, 0.83175079, 0.85437848, 0.80264464, 0.95518034,\n",
    "#         0.95518034, 0.80154624, 0.95518034, 0.93635621, 0.95518034]),\n",
    "#  'split2_test_score': array([0.83089697, 0.84456198, 0.85963405, 0.80920422, 0.95518323,\n",
    "#         0.95518323, 0.80304649, 0.95518323, 0.93807473, 0.95518323]),\n",
    "#  'mean_test_score': array([0.81694589, 0.83816756, 0.85580354, 0.80520234, 0.95518131,\n",
    "#         0.95518131, 0.80323449, 0.95518131, 0.93758063, 0.95518131]),\n",
    "#  'std_test_score': array([9.99436807e-03, 5.23017336e-03, 2.73799054e-03, 2.86603532e-03,\n",
    "#         1.36249605e-06, 1.36249605e-06, 1.46126561e-03, 1.36249605e-06,\n",
    "#         8.71148715e-04, 1.36249605e-06]),\n",
    "#  'rank_test_score': array([ 8,  7,  6,  9,  1,  1, 10,  1,  5,  1])}"
   ]
  },
  {
   "cell_type": "markdown",
   "id": "99f9d6a0-9ad8-4784-b46e-468bd48cfcd6",
   "metadata": {},
   "source": [
    "#### training"
   ]
  },
  {
   "cell_type": "code",
   "execution_count": 23,
   "id": "defc9a65-a8b4-42a5-9147-664349847a22",
   "metadata": {
    "tags": []
   },
   "outputs": [
    {
     "name": "stdout",
     "output_type": "stream",
     "text": [
      "EPOCH 0\n",
      "EPOCH 1\n",
      "EPOCH 2\n",
      "EPOCH 3\n",
      "EPOCH 4\n",
      "EPOCH 5\n",
      "EPOCH 6\n",
      "EPOCH 7\n",
      "EPOCH 8\n",
      "EPOCH 9\n"
     ]
    }
   ],
   "source": [
    "bp = {'n_estimators': 1, 'max_depth': 3, 'ccp_alpha': 1e-05}\n",
    "bp = RandomForestClassifier(**bp, warm_start=True, class_weight={0: 1, 1: 30, 2: 45}, n_jobs=-1)\n",
    "data = DataLoader(full, len(full) // 5 + 1)\n",
    "for i in range(10):\n",
    "    print(f\"EPOCH {i}\")\n",
    "    data.shuffle()\n",
    "    for x in data:\n",
    "        bp.fit(*pipeline(x, enc, regression=False, ret='numpy'))\n",
    "        bp.n_estimators += 1"
   ]
  },
  {
   "cell_type": "code",
   "execution_count": 24,
   "id": "19af6b8b-6256-4060-acbb-ad1c1468856e",
   "metadata": {
    "tags": []
   },
   "outputs": [
    {
     "name": "stdout",
     "output_type": "stream",
     "text": [
      "              precision    recall  f1-score   support\n",
      "\n",
      "           0       0.97      0.12      0.21    473657\n",
      "           1       0.14      0.00      0.00      8253\n",
      "           2       0.03      0.99      0.06     13810\n",
      "\n",
      "    accuracy                           0.14    495720\n",
      "   macro avg       0.38      0.37      0.09    495720\n",
      "weighted avg       0.93      0.14      0.20    495720\n",
      "\n"
     ]
    }
   ],
   "source": [
    "x, y = pipeline(full.sample(frac=0.1), enc, regression=False, ret='numpy')\n",
    "print(classification_report(y, bp.predict(x), zero_division=0))"
   ]
  },
  {
   "cell_type": "raw",
   "id": "023eadc2-08c0-406a-a816-ffba70dc1608",
   "metadata": {
    "tags": []
   },
   "source": [
    "pickle.dump(bp, open('models/rf_book.pkl', 'wb'))"
   ]
  },
  {
   "cell_type": "markdown",
   "id": "fc894875-4076-4986-a592-d1f08ece32d1",
   "metadata": {},
   "source": [
    "## Super model"
   ]
  },
  {
   "cell_type": "code",
   "execution_count": 108,
   "id": "c8d11d51-9ff9-402f-a99a-7206a8bcaad0",
   "metadata": {
    "tags": []
   },
   "outputs": [],
   "source": [
    "class Ranker(nn.Module):\n",
    "    def __init__(self):\n",
    "        super().__init__()\n",
    "        self.lin = nn.Linear(128, 32)\n",
    "        self.relu = nn.ReLU()\n",
    "        self.flatten = nn.Flatten()\n",
    "        self.mlp_r = self.load_MLP('models/MLP_reg.pt')\n",
    "        self.mlp_c = self.load_MLP('models/MLP_class.pt')\n",
    "        self.rf_models = [pickle.load(open(f'models/rf_{m}.pkl', 'rb'))\n",
    "                          for m in ['book', 'click', 'large', 'small']]\n",
    "        self.seq = nn.Sequential(\n",
    "            nn.Linear(76, 256),\n",
    "            self.relu,\n",
    "            nn.Dropout(0.3),\n",
    "            nn.Linear(256, 512),\n",
    "            self.relu,\n",
    "            nn.Dropout(0.3),\n",
    "            nn.Linear(512, 64),\n",
    "            self.relu,\n",
    "            nn.Dropout(0.3),\n",
    "            nn.Linear(64, 1),\n",
    "            nn.Sigmoid()\n",
    "        )\n",
    "    \n",
    "    @staticmethod\n",
    "    def load_MLP(path):\n",
    "        model = torch.load(path)\n",
    "        for i in ['19', '20', '21']:\n",
    "            model.__setattr__(i, Identity())\n",
    "        for p in model.parameters():\n",
    "            p.requires_grad = False\n",
    "        return model\n",
    "    \n",
    "    def forward(self, x):\n",
    "        y = torch.tensor([m.predict_proba(x) for m in self.rf_models], dtype=torch.float32, device='cuda')\n",
    "        x = torch.tensor(x, dtype=torch.float32, device='cuda')\n",
    "        x = torch.stack([self.mlp_c(x), self.mlp_r(x)], dim=1)\n",
    "        x = self.relu(self.lin(x))\n",
    "        x = torch.cat([self.flatten(x), *y], dim=1)\n",
    "        return self.seq(x)"
   ]
  },
  {
   "cell_type": "code",
   "execution_count": 111,
   "id": "90c357be-b70f-4d98-a1aa-8f53676f621b",
   "metadata": {},
   "outputs": [
    {
     "data": {
      "text/plain": [
       "torch.Size([100, 1])"
      ]
     },
     "execution_count": 111,
     "metadata": {},
     "output_type": "execute_result"
    }
   ],
   "source": [
    "r = Ranker().to('cuda')\n",
    "r(x[:100]).shape"
   ]
  },
  {
   "cell_type": "markdown",
   "id": "9bdd5fb7-6f5a-46d7-a733-e43f4744aef0",
   "metadata": {
    "jp-MarkdownHeadingCollapsed": true,
    "tags": []
   },
   "source": [
    "### Other networks"
   ]
  },
  {
   "cell_type": "code",
   "execution_count": 24,
   "id": "9e92cf6f-5962-42b0-ab85-8bf21b810e97",
   "metadata": {
    "tags": []
   },
   "outputs": [],
   "source": [
    "class ResNet(nn.Module):\n",
    "    def __init__(self, inp, hidden=1024):\n",
    "        super().__init__()\n",
    "        self.inp = inp\n",
    "        self.hidden = hidden\n",
    "        self.bn1 = nn.BatchNorm1d(inp)\n",
    "        self.lin1 = nn.Linear(inp, hidden)\n",
    "        self.lin2 = nn.Linear(2 * inp, hidden)\n",
    "        self.lin3 = nn.Linear(2 * inp, hidden)\n",
    "        self.lin4 = nn.Linear(2 * inp, hidden)\n",
    "        self.lin5 = nn.Linear(inp, 1)\n",
    "        self.relu = nn.ReLU()\n",
    "        self.res1 = self.res_block()\n",
    "        self.res2 = self.res_block()\n",
    "        self.res3 = self.res_block()\n",
    "        self.res4 = self.res_block()\n",
    "    \n",
    "    def res_block(self):\n",
    "        return nn.Sequential(\n",
    "            nn.BatchNorm1d(self.hidden),\n",
    "            nn.Linear(self.hidden, 2 * self.hidden),\n",
    "            nn.ReLU(),\n",
    "            nn.Dropout(0.3),\n",
    "            nn.Linear(2 * self.hidden, self.hidden),\n",
    "            nn.ReLU(),\n",
    "            nn.Dropout(0.3),\n",
    "            nn.Linear(self.hidden, self.hidden // 2),\n",
    "            nn.ReLU(),\n",
    "            nn.Dropout(0.3),\n",
    "            nn.Linear(self.hidden // 2, self.inp),\n",
    "            nn.ReLU(),\n",
    "            nn.Dropout(0.3)\n",
    "        )\n",
    "    \n",
    "    def forward(self, x):\n",
    "        y = self.relu(self.lin1(self.bn1(x)))\n",
    "        y = self.lin2(torch.hstack([self.res1(y), x]))\n",
    "        y = self.lin3(torch.hstack([self.res2(y), x]))\n",
    "        y = self.lin4(torch.hstack([self.res3(y), x]))\n",
    "        y = self.lin5(self.res4(y))\n",
    "        return nn.functional.sigmoid(y) * 5"
   ]
  },
  {
   "cell_type": "code",
   "execution_count": 25,
   "id": "3caa5ad9-1b4a-43ad-b52f-e0014d7cdda9",
   "metadata": {
    "tags": []
   },
   "outputs": [],
   "source": [
    "net = ResNet(220).to('cuda')\n",
    "optimizer = torch.optim.Adam([p for p in net.parameters() if p.requires_grad], lr=3e-5, weight_decay=1e-4)"
   ]
  },
  {
   "cell_type": "code",
   "execution_count": 15,
   "id": "dfcfaf17-a460-48bf-a378-5bc723e95311",
   "metadata": {
    "tags": []
   },
   "outputs": [],
   "source": [
    "net = torch.load('ResNet.pt').to('cuda')\n",
    "optimizer = torch.optim.Adam([p for p in net.parameters() if p.requires_grad], lr=3e-5, weight_decay=1e-4)"
   ]
  },
  {
   "cell_type": "code",
   "execution_count": 26,
   "id": "0f126fdb-0b1e-4197-9b89-332c200d18dd",
   "metadata": {
    "tags": []
   },
   "outputs": [
    {
     "name": "stderr",
     "output_type": "stream",
     "text": [
      "100%|████████████████████████████████████████████████████████████████████████████████| 485/485 [00:32<00:00, 14.95it/s]\n"
     ]
    },
    {
     "name": "stdout",
     "output_type": "stream",
     "text": [
      "tensor(0.9175)\n"
     ]
    },
    {
     "name": "stderr",
     "output_type": "stream",
     "text": [
      "100%|████████████████████████████████████████████████████████████████████████████████| 485/485 [00:32<00:00, 14.89it/s]\n"
     ]
    },
    {
     "name": "stdout",
     "output_type": "stream",
     "text": [
      "tensor(0.7136)\n"
     ]
    },
    {
     "name": "stderr",
     "output_type": "stream",
     "text": [
      "100%|████████████████████████████████████████████████████████████████████████████████| 485/485 [00:33<00:00, 14.52it/s]\n"
     ]
    },
    {
     "name": "stdout",
     "output_type": "stream",
     "text": [
      "tensor(0.7182)\n"
     ]
    },
    {
     "name": "stderr",
     "output_type": "stream",
     "text": [
      "100%|████████████████████████████████████████████████████████████████████████████████| 485/485 [00:34<00:00, 13.90it/s]\n"
     ]
    },
    {
     "name": "stdout",
     "output_type": "stream",
     "text": [
      "tensor(0.7172)\n"
     ]
    },
    {
     "name": "stderr",
     "output_type": "stream",
     "text": [
      "100%|████████████████████████████████████████████████████████████████████████████████| 485/485 [00:35<00:00, 13.84it/s]"
     ]
    },
    {
     "name": "stdout",
     "output_type": "stream",
     "text": [
      "tensor(0.7139)\n"
     ]
    },
    {
     "name": "stderr",
     "output_type": "stream",
     "text": [
      "\n"
     ]
    }
   ],
   "source": [
    "EPOCHS = 5\n",
    "bs = 1024\n",
    "\n",
    "losses = list()\n",
    "for i in range(EPOCHS):\n",
    "    net.train\n",
    "    l = train(net, optimizer, *pipeline(full.sample(frac=0.1)), bs=bs)\n",
    "    losses.extend(l)\n",
    "    print(sum(l)/len(l))"
   ]
  },
  {
   "cell_type": "code",
   "execution_count": 28,
   "id": "c1185a4d-4275-492e-b41c-37865efbde2c",
   "metadata": {
    "tags": []
   },
   "outputs": [
    {
     "data": {
      "image/png": "[encoded data removed]",
      "text/plain": [
       "<Figure size 640x480 with 1 Axes>"
      ]
     },
     "metadata": {},
     "output_type": "display_data"
    }
   ],
   "source": [
    "plot_loss(losses, 'residual')\n",
    "plt.show()"
   ]
  },
  {
   "cell_type": "code",
   "execution_count": 28,
   "id": "1043c05f-94cc-45b7-816e-a7cbfd343506",
   "metadata": {
    "tags": []
   },
   "outputs": [],
   "source": [
    "torch.save(net, 'ResNet.pt')"
   ]
  },
  {
   "cell_type": "raw",
   "id": "411b8afe-f26d-4c87-8d1b-cea288e73a82",
   "metadata": {
    "tags": []
   },
   "source": [
    "# DOES NOT LEARN ANYTHING\n",
    "def PWFFN(inp, out, hidden=None):\n",
    "    hidden = 4 * inp if hidden is None else hidden\n",
    "    return nn.Sequential(nn.Linear(inp, hidden), nn.ReLU(), nn.Linear(hidden, out))\n",
    "\n",
    "\n",
    "class TransformerBlock(nn.Module):\n",
    "    def __init__(self, dim, heads=1):\n",
    "        super().__init__()\n",
    "        self.attn = nn.MultiheadAttention(dim, heads, batch_first=True)\n",
    "        self.norm1 = nn.LayerNorm(dim)\n",
    "        self.norm2 = nn.LayerNorm(dim)\n",
    "        self.lin = PWFFN(dim, dim)\n",
    "    \n",
    "    def forward(self, x):\n",
    "        y, _ = self.attn(x, x, x)\n",
    "        y = self.norm1(y + x)\n",
    "        return self.norm2(self.lin(y) + y)\n",
    "    \n",
    "    \n",
    "class Transformer(nn.Module):\n",
    "    def __init__(self, inp, hidden=1024, heads=32, transformer_blocks=8):\n",
    "        super().__init__()\n",
    "        self.pwffn = PWFFN(inp, hidden, hidden * 4)\n",
    "        self.transformers = [TransformerBlock(hidden, heads=heads) for _ in range(transformer_blocks)]\n",
    "        for i, t in enumerate(self.transformers):\n",
    "            self.add_module(f\"transformer{i}\", t)\n",
    "        self.lin = nn.Sequential(\n",
    "            nn.Linear(hidden, 2 * hidden),\n",
    "            nn.ReLU(),\n",
    "            nn.Dropout(0.3),\n",
    "            nn.Linear(2 * hidden, hidden),\n",
    "            nn.ReLU(),\n",
    "            nn.Dropout(0.3),\n",
    "            nn.Linear(hidden, hidden // 2),\n",
    "            nn.ReLU(),\n",
    "            nn.Dropout(0.3),\n",
    "            nn.Linear(hidden // 2, 1)\n",
    "        )\n",
    "    \n",
    "    def forward(self, x):\n",
    "        x = self.pwffn(x)\n",
    "        for trans in self.transformers:\n",
    "            x = trans(x)\n",
    "        x = self.lin(x)\n",
    "        return 5 * nn.functional.sigmoid(x)"
   ]
  },
  {
   "cell_type": "raw",
   "id": "6df092b8-ff37-4b05-8af4-109f6b0821c5",
   "metadata": {
    "tags": []
   },
   "source": [
    "net = Transformer(221, hidden=512, heads=16, transformer_blocks=6).to('cuda')\n",
    "optimizer = torch.optim.Adam([p for p in net.parameters() if p.requires_grad], lr=3e-5, weight_decay=1e-4)"
   ]
  },
  {
   "cell_type": "raw",
   "id": "bc420854-91cf-436e-afa1-2958ee7b78ea",
   "metadata": {
    "tags": []
   },
   "source": [
    "EPOCHS = 3\n",
    "bs = 64\n",
    "\n",
    "losses = list()\n",
    "for i in range(EPOCHS):\n",
    "    net.train\n",
    "    X, Y, l = list(), list(), list()\n",
    "    for sid in np.random.permutation(full.srch_id.unique()):\n",
    "        data, targets = pipeline(full[full.srch_id == sid])\n",
    "        X.extend(net(data))\n",
    "        Y.extend(targets)\n",
    "        if len(X) >= bs:\n",
    "            optimizer.zero_grad()\n",
    "            loss = criterion(torch.tensor(X, device='cuda', requires_grad=True), torch.tensor(Y, device='cuda', requires_grad=True))\n",
    "            loss.backward()\n",
    "            optimizer.step()\n",
    "            l.append(loss.detach().cpu())\n",
    "            X, Y = list(), list()\n",
    "        if len(l) > 1000:\n",
    "            print(sum(l)/len(l))\n",
    "            losses.extend(l)\n",
    "            l = list()"
   ]
  },
  {
   "cell_type": "raw",
   "id": "b0f1cc14-c55f-49ce-b4bd-b4a71fa24f31",
   "metadata": {
    "tags": []
   },
   "source": [
    "plt.plot(losses)"
   ]
  }
 ],
 "metadata": {
  "kernelspec": {
   "display_name": "Python 3 (ipykernel)",
   "language": "python",
   "name": "python3"
  },
  "language_info": {
   "codemirror_mode": {
    "name": "ipython",
    "version": 3
   },
   "file_extension": ".py",
   "mimetype": "text/x-python",
   "name": "python",
   "nbconvert_exporter": "python",
   "pygments_lexer": "ipython3",
   "version": "3.11.3"
  }
 },
 "nbformat": 4,
 "nbformat_minor": 5
}
