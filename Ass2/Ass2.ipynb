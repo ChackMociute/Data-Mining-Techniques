{
 "cells": [
  {
   "cell_type": "code",
   "execution_count": 1,
   "id": "447b623d-b98b-461b-9472-40066387b375",
   "metadata": {
    "tags": []
   },
   "outputs": [],
   "source": [
    "import pickle\n",
    "import torch\n",
    "import torch.nn as nn\n",
    "import pandas as pd\n",
    "import numpy as np\n",
    "import matplotlib.pyplot as plt\n",
    "\n",
    "from sklearn.decomposition import PCA\n",
    "from tqdm import tqdm\n",
    "from gc import collect\n",
    "\n",
    "\n",
    "pd.options.mode.chained_assignment = None"
   ]
  },
  {
   "cell_type": "code",
   "execution_count": 2,
   "id": "6de346da-e671-49de-8b55-5f72a01a8626",
   "metadata": {
    "tags": []
   },
   "outputs": [],
   "source": [
    "# full = pd.read_csv('training_set_VU_DM.csv', parse_dates=['date_time'])\n",
    "full = pd.read_csv('test_set_VU_DM.csv', parse_dates=['date_time'])\n",
    "# df = full.sample(frac=0.01)\n",
    "# df.head()"
   ]
  },
  {
   "cell_type": "code",
   "execution_count": 6,
   "id": "877b0816-643d-4506-ab57-1b87417127c5",
   "metadata": {
    "tags": []
   },
   "outputs": [],
   "source": [
    "fillna = dict( # Different values to replace NaNs in each column\n",
    "    visitor_hist_starrating = -1,\n",
    "    visitor_hist_adr_usd = -1,\n",
    "    prop_review_score = -1,\n",
    "    prop_location_score2 = -1,\n",
    "    srch_query_affinity_score = -1,\n",
    "    orig_destination_distance = -1,\n",
    "    **{f\"comp{i}_rate\": 0 for i in range(1, 9)},\n",
    "    **{f\"comp{i}_inv\": -1 for i in range(1, 9)},\n",
    "    **{f\"comp{i}_rate_percent_diff\": -1 for i in range(1, 9)}\n",
    ")\n",
    "missing = {f\"comp{i}_rate_missing\": f\"comp{i}_rate\" for i in range(1, 9)}\n",
    "enc = np.load('enc.npy')\n",
    "pca = pickle.load(open(\"pca.pkl\", 'rb'))\n",
    "\n",
    "# Add additional columns where filling in NaNs with special values isn't enough\n",
    "def fillnans(df):\n",
    "    for k, v in missing.items():\n",
    "        df[k] = df[v].isna().astype(int)\n",
    "    return df.fillna(fillna)\n",
    "\n",
    "def split_time(df):\n",
    "    # Split date_time into year, month, day, and time\n",
    "    dates = np.vstack(df.date_time.dt.strftime(\"%Y,%m,%d,%H,%M,%S\").str.split(',').map(np.asarray)).astype(int)\n",
    "    dates[:,0] -= 2000 # Years before 2000 are negative\n",
    "    df[['year', 'month', 'day']] = dates[:,:3]\n",
    "    df['time'] = (dates[:,3] * 3600 + dates[:,4] * 60 + dates[:,5]) / 86400 # Time in range 0 to 1\n",
    "    return df.drop(columns='date_time')\n",
    "\n",
    "def clean(df):\n",
    "    df = df[~(df.price_usd > df.price_usd.mean() + 3 * df.price_usd.std())] # Drop outliers\n",
    "    return df[df.price_usd != 0] # Drop instances where the property costs nothing\n",
    "\n",
    "# One-hot encode categorical values\n",
    "def encode(df):\n",
    "    # Reduce the size of the one-hot encoded variables with PCA\n",
    "    return pd.concat([df, pd.DataFrame(pca.transform(enc[df.index]), index=df.index)], axis=1)\n",
    "full = full.drop(columns=['site_id', 'visitor_location_country_id', 'prop_country_id'])\n",
    "\n",
    "# TOO EXPENSIVE\n",
    "# USE PRECOMPUTED VALUES IN THE ABOVE FUNCTION INSTEAD\n",
    "# One-hot encode categorical values\n",
    "# def encode(df):\n",
    "#     df = pd.get_dummies(df, columns=['site_id', 'visitor_location_country_id', 'prop_country_id'], dtype=int)\n",
    "#     # Reduce the size of the one-hot encoded variables with PCA\n",
    "#     return pd.concat([df.iloc[:,:62], pd.DataFrame(pca.transform(df.iloc[:,62:]), index=df.index)], axis=1)"
   ]
  },
  {
   "cell_type": "code",
   "execution_count": 7,
   "id": "e7dd7f58-605a-401f-be92-4284db7475c8",
   "metadata": {
    "tags": []
   },
   "outputs": [],
   "source": [
    "full = clean(split_time(fillnans(full)))\n",
    "full = full.reset_index()"
   ]
  },
  {
   "cell_type": "code",
   "execution_count": 8,
   "id": "bf51c659-8bfa-487c-9689-673eadb7b27d",
   "metadata": {
    "tags": []
   },
   "outputs": [
    {
     "data": {
      "text/html": [
       "<div>\n",
       "<style scoped>\n",
       "    .dataframe tbody tr th:only-of-type {\n",
       "        vertical-align: middle;\n",
       "    }\n",
       "\n",
       "    .dataframe tbody tr th {\n",
       "        vertical-align: top;\n",
       "    }\n",
       "\n",
       "    .dataframe thead th {\n",
       "        text-align: right;\n",
       "    }\n",
       "</style>\n",
       "<table border=\"1\" class=\"dataframe\">\n",
       "  <thead>\n",
       "    <tr style=\"text-align: right;\">\n",
       "      <th></th>\n",
       "      <th>srch_id</th>\n",
       "      <th>site_id</th>\n",
       "      <th>visitor_location_country_id</th>\n",
       "      <th>visitor_hist_starrating</th>\n",
       "      <th>visitor_hist_adr_usd</th>\n",
       "      <th>prop_country_id</th>\n",
       "      <th>prop_id</th>\n",
       "      <th>prop_starrating</th>\n",
       "      <th>prop_review_score</th>\n",
       "      <th>prop_brand_bool</th>\n",
       "      <th>...</th>\n",
       "      <th>comp3_rate_missing</th>\n",
       "      <th>comp4_rate_missing</th>\n",
       "      <th>comp5_rate_missing</th>\n",
       "      <th>comp6_rate_missing</th>\n",
       "      <th>comp7_rate_missing</th>\n",
       "      <th>comp8_rate_missing</th>\n",
       "      <th>year</th>\n",
       "      <th>month</th>\n",
       "      <th>day</th>\n",
       "      <th>time</th>\n",
       "    </tr>\n",
       "  </thead>\n",
       "  <tbody>\n",
       "    <tr>\n",
       "      <th>0</th>\n",
       "      <td>1</td>\n",
       "      <td>24</td>\n",
       "      <td>216</td>\n",
       "      <td>-1.0</td>\n",
       "      <td>-1.0</td>\n",
       "      <td>219</td>\n",
       "      <td>3180</td>\n",
       "      <td>3</td>\n",
       "      <td>4.5</td>\n",
       "      <td>1</td>\n",
       "      <td>...</td>\n",
       "      <td>1</td>\n",
       "      <td>1</td>\n",
       "      <td>1</td>\n",
       "      <td>1</td>\n",
       "      <td>1</td>\n",
       "      <td>1</td>\n",
       "      <td>13</td>\n",
       "      <td>2</td>\n",
       "      <td>2</td>\n",
       "      <td>0.644213</td>\n",
       "    </tr>\n",
       "    <tr>\n",
       "      <th>1</th>\n",
       "      <td>1</td>\n",
       "      <td>24</td>\n",
       "      <td>216</td>\n",
       "      <td>-1.0</td>\n",
       "      <td>-1.0</td>\n",
       "      <td>219</td>\n",
       "      <td>5543</td>\n",
       "      <td>3</td>\n",
       "      <td>4.5</td>\n",
       "      <td>1</td>\n",
       "      <td>...</td>\n",
       "      <td>1</td>\n",
       "      <td>1</td>\n",
       "      <td>1</td>\n",
       "      <td>1</td>\n",
       "      <td>1</td>\n",
       "      <td>1</td>\n",
       "      <td>13</td>\n",
       "      <td>2</td>\n",
       "      <td>2</td>\n",
       "      <td>0.644213</td>\n",
       "    </tr>\n",
       "    <tr>\n",
       "      <th>2</th>\n",
       "      <td>1</td>\n",
       "      <td>24</td>\n",
       "      <td>216</td>\n",
       "      <td>-1.0</td>\n",
       "      <td>-1.0</td>\n",
       "      <td>219</td>\n",
       "      <td>14142</td>\n",
       "      <td>2</td>\n",
       "      <td>3.5</td>\n",
       "      <td>1</td>\n",
       "      <td>...</td>\n",
       "      <td>1</td>\n",
       "      <td>1</td>\n",
       "      <td>0</td>\n",
       "      <td>1</td>\n",
       "      <td>1</td>\n",
       "      <td>1</td>\n",
       "      <td>13</td>\n",
       "      <td>2</td>\n",
       "      <td>2</td>\n",
       "      <td>0.644213</td>\n",
       "    </tr>\n",
       "    <tr>\n",
       "      <th>3</th>\n",
       "      <td>1</td>\n",
       "      <td>24</td>\n",
       "      <td>216</td>\n",
       "      <td>-1.0</td>\n",
       "      <td>-1.0</td>\n",
       "      <td>219</td>\n",
       "      <td>22393</td>\n",
       "      <td>3</td>\n",
       "      <td>4.5</td>\n",
       "      <td>1</td>\n",
       "      <td>...</td>\n",
       "      <td>1</td>\n",
       "      <td>1</td>\n",
       "      <td>0</td>\n",
       "      <td>1</td>\n",
       "      <td>1</td>\n",
       "      <td>1</td>\n",
       "      <td>13</td>\n",
       "      <td>2</td>\n",
       "      <td>2</td>\n",
       "      <td>0.644213</td>\n",
       "    </tr>\n",
       "    <tr>\n",
       "      <th>4</th>\n",
       "      <td>1</td>\n",
       "      <td>24</td>\n",
       "      <td>216</td>\n",
       "      <td>-1.0</td>\n",
       "      <td>-1.0</td>\n",
       "      <td>219</td>\n",
       "      <td>24194</td>\n",
       "      <td>3</td>\n",
       "      <td>4.5</td>\n",
       "      <td>1</td>\n",
       "      <td>...</td>\n",
       "      <td>1</td>\n",
       "      <td>1</td>\n",
       "      <td>0</td>\n",
       "      <td>1</td>\n",
       "      <td>1</td>\n",
       "      <td>1</td>\n",
       "      <td>13</td>\n",
       "      <td>2</td>\n",
       "      <td>2</td>\n",
       "      <td>0.644213</td>\n",
       "    </tr>\n",
       "  </tbody>\n",
       "</table>\n",
       "<p>5 rows × 61 columns</p>\n",
       "</div>"
      ],
      "text/plain": [
       "   srch_id  site_id  visitor_location_country_id  visitor_hist_starrating  \\\n",
       "0        1       24                          216                     -1.0   \n",
       "1        1       24                          216                     -1.0   \n",
       "2        1       24                          216                     -1.0   \n",
       "3        1       24                          216                     -1.0   \n",
       "4        1       24                          216                     -1.0   \n",
       "\n",
       "   visitor_hist_adr_usd  prop_country_id  prop_id  prop_starrating  \\\n",
       "0                  -1.0              219     3180                3   \n",
       "1                  -1.0              219     5543                3   \n",
       "2                  -1.0              219    14142                2   \n",
       "3                  -1.0              219    22393                3   \n",
       "4                  -1.0              219    24194                3   \n",
       "\n",
       "   prop_review_score  prop_brand_bool  ...  comp3_rate_missing  \\\n",
       "0                4.5                1  ...                   1   \n",
       "1                4.5                1  ...                   1   \n",
       "2                3.5                1  ...                   1   \n",
       "3                4.5                1  ...                   1   \n",
       "4                4.5                1  ...                   1   \n",
       "\n",
       "   comp4_rate_missing  comp5_rate_missing  comp6_rate_missing  \\\n",
       "0                   1                   1                   1   \n",
       "1                   1                   1                   1   \n",
       "2                   1                   0                   1   \n",
       "3                   1                   0                   1   \n",
       "4                   1                   0                   1   \n",
       "\n",
       "   comp7_rate_missing  comp8_rate_missing  year  month  day      time  \n",
       "0                   1                   1    13      2    2  0.644213  \n",
       "1                   1                   1    13      2    2  0.644213  \n",
       "2                   1                   1    13      2    2  0.644213  \n",
       "3                   1                   1    13      2    2  0.644213  \n",
       "4                   1                   1    13      2    2  0.644213  \n",
       "\n",
       "[5 rows x 61 columns]"
      ]
     },
     "execution_count": 8,
     "metadata": {},
     "output_type": "execute_result"
    }
   ],
   "source": [
    "full = split_time(fillnans(full))\n",
    "full.head()"
   ]
  },
  {
   "cell_type": "code",
   "execution_count": 9,
   "id": "c05f1191-fefe-48ed-a199-509c324e1925",
   "metadata": {
    "tags": []
   },
   "outputs": [],
   "source": []
  },
  {
   "cell_type": "raw",
   "id": "1470aec5-55db-4db9-8629-1e3eb5cf4360",
   "metadata": {
    "tags": []
   },
   "source": [
    "# Find the number of principal components needed \n",
    "pca = PCA()\n",
    "pca.fit(pd.get_dummies(df, columns=['site_id', 'visitor_location_country_id', 'prop_country_id'], dtype=int).iloc[:,62:])\n",
    "(pca.explained_variance_ratio_.cumsum() < 0.99).sum() # =163"
   ]
  },
  {
   "cell_type": "raw",
   "id": "15238b1e-95a8-4900-bee2-71c4ca5aeee8",
   "metadata": {
    "tags": []
   },
   "source": [
    "df.plot('srch_id', 'price_usd', kind='scatter')\n",
    "plt.show()"
   ]
  },
  {
   "cell_type": "code",
   "execution_count": 10,
   "id": "227f5eb0-01bf-41a9-a417-c04f8a911c36",
   "metadata": {
    "tags": []
   },
   "outputs": [],
   "source": [
    "def split_data_and_targets(df):\n",
    "    metadata = df[['srch_id', 'prop_id', 'position', 'gross_bookings_usd', 'click_bool', 'booking_bool']]\n",
    "    metadata.loc[:, 'booking_bool'] *= 5\n",
    "    metadata.loc[:, 'target'] = metadata.iloc[:,-2:].max(axis=1)\n",
    "    return (\n",
    "        df.drop(columns=['srch_id', 'position', 'click_bool', 'booking_bool', 'gross_bookings_usd']),\n",
    "        metadata\n",
    "    )"
   ]
  },
  {
   "cell_type": "code",
   "execution_count": 11,
   "id": "6b298678-a82f-4629-ad22-85daeea1758e",
   "metadata": {
    "tags": []
   },
   "outputs": [],
   "source": [
    "def pipeline(df, ret='torch'):\n",
    "    df = encode(df)\n",
    "    df, metadata = split_data_and_targets(df)\n",
    "    if ret != 'torch':\n",
    "        return df, metadata\n",
    "    return (\n",
    "        torch.tensor(df.to_numpy(), dtype=torch.float32, device='cuda'),\n",
    "        torch.tensor(metadata.target.to_numpy(), dtype=torch.float32, device='cuda').reshape(-1, 1)\n",
    "    )"
   ]
  },
  {
   "cell_type": "code",
   "execution_count": 12,
   "id": "f4a798e9-ec1d-47e3-b68a-a108af9bc6dc",
   "metadata": {
    "tags": []
   },
   "outputs": [],
   "source": [
    "net = nn.Sequential(\n",
    "    nn.BatchNorm1d(221),\n",
    "    nn.Linear(221, 1024),\n",
    "    nn.ReLU(),\n",
    "    nn.Dropout(0.3),\n",
    "    nn.Linear(1024, 512),\n",
    "    nn.ReLU(),\n",
    "    nn.Dropout(0.3),\n",
    "    nn.Linear(512, 2048),\n",
    "    nn.ReLU(),\n",
    "    nn.Dropout(0.3),\n",
    "    nn.Linear(2048, 1024),\n",
    "    nn.ReLU(),\n",
    "    nn.Dropout(0.3),\n",
    "    nn.Linear(1024, 512),\n",
    "    nn.ReLU(),\n",
    "    nn.Dropout(0.3),\n",
    "    nn.BatchNorm1d(512),\n",
    "    nn.Linear(512, 128),\n",
    "    nn.ReLU(),\n",
    "    nn.Dropout(0.3),\n",
    "    nn.Linear(128, 1)\n",
    ").to('cuda')\n",
    "\n",
    "criterion = nn.MSELoss()\n",
    "optimizer = torch.optim.Adam([p for p in net.parameters() if p.requires_grad], lr=3e-4, weight_decay=1e-4)"
   ]
  },
  {
   "cell_type": "code",
   "execution_count": 13,
   "id": "2ea1d9aa-95ca-4d51-bf39-b07758045496",
   "metadata": {
    "tags": []
   },
   "outputs": [],
   "source": [
    "def train(model, opt, data, targets, bs=1024):\n",
    "    losses = list()\n",
    "    for i in tqdm(range(0, len(data), bs)):\n",
    "        x, y = data[i:i+bs], targets[i:i+bs]\n",
    "        opt.zero_grad()\n",
    "        loss = criterion(model(x), y)\n",
    "        loss.backward()\n",
    "        opt.step()\n",
    "        losses.append(loss.detach().cpu())\n",
    "    return losses"
   ]
  },
  {
   "cell_type": "code",
   "execution_count": 25,
   "id": "ed06f2b3-2a6d-4654-977d-932aae3066d5",
   "metadata": {
    "tags": []
   },
   "outputs": [
    {
     "name": "stderr",
     "output_type": "stream",
     "text": [
      "100%|████████████████████████████████████████████████████████████████████████████████| 485/485 [00:08<00:00, 60.19it/s]\n",
      "100%|████████████████████████████████████████████████████████████████████████████████| 485/485 [00:07<00:00, 62.36it/s]\n",
      "100%|████████████████████████████████████████████████████████████████████████████████| 485/485 [00:07<00:00, 62.65it/s]\n",
      "100%|████████████████████████████████████████████████████████████████████████████████| 485/485 [00:07<00:00, 63.21it/s]\n",
      "100%|████████████████████████████████████████████████████████████████████████████████| 485/485 [00:07<00:00, 61.82it/s]\n"
     ]
    }
   ],
   "source": [
    "EPOCHS = 5\n",
    "bs = 1024\n",
    "\n",
    "losses = list()\n",
    "for i in range(EPOCHS):\n",
    "    net.train\n",
    "    train(lambda x: nn.functional.sigmoid(net(x)) * 5, optimizer, *pipeline(full.sample(frac=0.1)), bs=bs)"
   ]
  },
  {
   "cell_type": "code",
   "execution_count": 26,
   "id": "d88f4b68-9a88-40b5-bdf0-418c2061dfdd",
   "metadata": {
    "tags": []
   },
   "outputs": [
    {
     "data": {
      "text/plain": [
       "[<matplotlib.lines.Line2D at 0x233cc6e81d0>]"
      ]
     },
     "execution_count": 26,
     "metadata": {},
     "output_type": "execute_result"
    },
    {
     "data": {
      "image/png": "[encoded data removed]",
      "text/plain": [
       "<Figure size 640x480 with 1 Axes>"
      ]
     },
     "metadata": {},
     "output_type": "display_data"
    }
   ],
   "source": [
    "plt.plot(losses)"
   ]
  },
  {
   "cell_type": "code",
   "execution_count": 14,
   "id": "9e92cf6f-5962-42b0-ab85-8bf21b810e97",
   "metadata": {
    "tags": []
   },
   "outputs": [],
   "source": [
    "class ResNet(nn.Module):\n",
    "    def __init__(self, inp, hidden=1024):\n",
    "        super().__init__()\n",
    "        self.inp = inp\n",
    "        self.hidden = hidden\n",
    "        self.bn1 = nn.BatchNorm1d(inp)\n",
    "        self.lin1 = nn.Linear(inp, hidden)\n",
    "        self.lin2 = nn.Linear(2 * inp, hidden)\n",
    "        self.lin3 = nn.Linear(2 * inp, hidden)\n",
    "        self.lin4 = nn.Linear(2 * inp, hidden)\n",
    "        self.lin5 = nn.Linear(inp, 1)\n",
    "        self.relu = nn.ReLU()\n",
    "        self.res1 = self.res_block()\n",
    "        self.res2 = self.res_block()\n",
    "        self.res3 = self.res_block()\n",
    "        self.res4 = self.res_block()\n",
    "    \n",
    "    def res_block(self):\n",
    "        return nn.Sequential(\n",
    "            nn.BatchNorm1d(self.hidden),\n",
    "            nn.Linear(self.hidden, 2 * self.hidden),\n",
    "            nn.ReLU(),\n",
    "            nn.Dropout(0.3),\n",
    "            nn.Linear(2 * self.hidden, self.hidden),\n",
    "            nn.ReLU(),\n",
    "            nn.Dropout(0.3),\n",
    "            nn.Linear(self.hidden, self.hidden // 2),\n",
    "            nn.ReLU(),\n",
    "            nn.Dropout(0.3),\n",
    "            nn.Linear(self.hidden // 2, self.inp),\n",
    "            nn.ReLU(),\n",
    "            nn.Dropout(0.3)\n",
    "        )\n",
    "    \n",
    "    def forward(self, x):\n",
    "        y = self.relu(self.lin1(self.bn1(x)))\n",
    "        y = self.lin2(torch.hstack([self.res1(y), x]))\n",
    "        y = self.lin3(torch.hstack([self.res2(y), x]))\n",
    "        y = self.lin4(torch.hstack([self.res3(y), x]))\n",
    "        y = self.lin5(self.res4(y))\n",
    "        return nn.functional.sigmoid(y) * 5"
   ]
  },
  {
   "cell_type": "code",
   "execution_count": 161,
   "id": "3caa5ad9-1b4a-43ad-b52f-e0014d7cdda9",
   "metadata": {
    "tags": []
   },
   "outputs": [],
   "source": [
    "net = ResNet(221).to('cuda')\n",
    "optimizer = torch.optim.Adam([p for p in net.parameters() if p.requires_grad], lr=3e-5, weight_decay=1e-4)"
   ]
  },
  {
   "cell_type": "code",
   "execution_count": 15,
   "id": "dfcfaf17-a460-48bf-a378-5bc723e95311",
   "metadata": {
    "tags": []
   },
   "outputs": [],
   "source": [
    "net = torch.load('ResNet.pt').to('cuda')\n",
    "optimizer = torch.optim.Adam([p for p in net.parameters() if p.requires_grad], lr=3e-5, weight_decay=1e-4)"
   ]
  },
  {
   "cell_type": "code",
   "execution_count": null,
   "id": "0f126fdb-0b1e-4197-9b89-332c200d18dd",
   "metadata": {
    "tags": []
   },
   "outputs": [],
   "source": [
    "EPOCHS = 25\n",
    "bs = 64\n",
    "\n",
    "# losses = list()\n",
    "for i in range(EPOCHS):\n",
    "    net.train\n",
    "    l = train(net, optimizer, *pipeline(full.sample(frac=0.1)), bs=bs)\n",
    "    losses.extend(l)\n",
    "    print(sum(losses)/len(losses))"
   ]
  },
  {
   "cell_type": "code",
   "execution_count": 30,
   "id": "c1185a4d-4275-492e-b41c-37865efbde2c",
   "metadata": {
    "tags": []
   },
   "outputs": [
    {
     "data": {
      "text/plain": [
       "[<matplotlib.lines.Line2D at 0x188d74b1290>]"
      ]
     },
     "execution_count": 30,
     "metadata": {},
     "output_type": "execute_result"
    },
    {
     "data": {
      "image/png": "[encoded data removed]",
      "text/plain": [
       "<Figure size 640x480 with 1 Axes>"
      ]
     },
     "metadata": {},
     "output_type": "display_data"
    }
   ],
   "source": [
    "plt.plot(losses)"
   ]
  },
  {
   "cell_type": "code",
   "execution_count": 31,
   "id": "20f397d4-b936-43d5-8699-bacd506f994e",
   "metadata": {
    "tags": []
   },
   "outputs": [
    {
     "data": {
      "text/plain": [
       "PearsonRResult(statistic=0.0005794690230248322, pvalue=0.8486169519349684)"
      ]
     },
     "execution_count": 31,
     "metadata": {},
     "output_type": "execute_result"
    }
   ],
   "source": [
    "from scipy.stats import pearsonr\n",
    "\n",
    "pearsonr(range(len(losses)), losses)"
   ]
  },
  {
   "cell_type": "code",
   "execution_count": 28,
   "id": "1043c05f-94cc-45b7-816e-a7cbfd343506",
   "metadata": {
    "tags": []
   },
   "outputs": [],
   "source": [
    "torch.save(net, 'ResNet.pt')"
   ]
  },
  {
   "cell_type": "raw",
   "id": "411b8afe-f26d-4c87-8d1b-cea288e73a82",
   "metadata": {
    "tags": []
   },
   "source": [
    "# DOES NOT LEARN ANYTHING\n",
    "def PWFFN(inp, out, hidden=None):\n",
    "    hidden = 4 * inp if hidden is None else hidden\n",
    "    return nn.Sequential(nn.Linear(inp, hidden), nn.ReLU(), nn.Linear(hidden, out))\n",
    "\n",
    "\n",
    "class TransformerBlock(nn.Module):\n",
    "    def __init__(self, dim, heads=1):\n",
    "        super().__init__()\n",
    "        self.attn = nn.MultiheadAttention(dim, heads, batch_first=True)\n",
    "        self.norm1 = nn.LayerNorm(dim)\n",
    "        self.norm2 = nn.LayerNorm(dim)\n",
    "        self.lin = PWFFN(dim, dim)\n",
    "    \n",
    "    def forward(self, x):\n",
    "        y, _ = self.attn(x, x, x)\n",
    "        y = self.norm1(y + x)\n",
    "        return self.norm2(self.lin(y) + y)\n",
    "    \n",
    "    \n",
    "class Transformer(nn.Module):\n",
    "    def __init__(self, inp, hidden=1024, heads=32, transformer_blocks=8):\n",
    "        super().__init__()\n",
    "        self.pwffn = PWFFN(inp, hidden, hidden * 4)\n",
    "        self.transformers = [TransformerBlock(hidden, heads=heads) for _ in range(transformer_blocks)]\n",
    "        for i, t in enumerate(self.transformers):\n",
    "            self.add_module(f\"transformer{i}\", t)\n",
    "        self.lin = nn.Sequential(\n",
    "            nn.Linear(hidden, 2 * hidden),\n",
    "            nn.ReLU(),\n",
    "            nn.Dropout(0.3),\n",
    "            nn.Linear(2 * hidden, hidden),\n",
    "            nn.ReLU(),\n",
    "            nn.Dropout(0.3),\n",
    "            nn.Linear(hidden, hidden // 2),\n",
    "            nn.ReLU(),\n",
    "            nn.Dropout(0.3),\n",
    "            nn.Linear(hidden // 2, 1)\n",
    "        )\n",
    "    \n",
    "    def forward(self, x):\n",
    "        x = self.pwffn(x)\n",
    "        for trans in self.transformers:\n",
    "            x = trans(x)\n",
    "        x = self.lin(x)\n",
    "        return 5 * nn.functional.sigmoid(x)"
   ]
  },
  {
   "cell_type": "raw",
   "id": "6df092b8-ff37-4b05-8af4-109f6b0821c5",
   "metadata": {
    "tags": []
   },
   "source": [
    "net = Transformer(221, hidden=512, heads=16, transformer_blocks=6).to('cuda')\n",
    "optimizer = torch.optim.Adam([p for p in net.parameters() if p.requires_grad], lr=3e-5, weight_decay=1e-4)"
   ]
  },
  {
   "cell_type": "raw",
   "id": "bc420854-91cf-436e-afa1-2958ee7b78ea",
   "metadata": {
    "tags": []
   },
   "source": [
    "EPOCHS = 3\n",
    "bs = 64\n",
    "\n",
    "losses = list()\n",
    "for i in range(EPOCHS):\n",
    "    net.train\n",
    "    X, Y, l = list(), list(), list()\n",
    "    for sid in np.random.permutation(full.srch_id.unique()):\n",
    "        data, targets = pipeline(full[full.srch_id == sid])\n",
    "        X.extend(net(data))\n",
    "        Y.extend(targets)\n",
    "        if len(X) >= bs:\n",
    "            optimizer.zero_grad()\n",
    "            loss = criterion(torch.tensor(X, device='cuda', requires_grad=True), torch.tensor(Y, device='cuda', requires_grad=True))\n",
    "            loss.backward()\n",
    "            optimizer.step()\n",
    "            l.append(loss.detach().cpu())\n",
    "            X, Y = list(), list()\n",
    "        if len(l) > 1000:\n",
    "            print(sum(l)/len(l))\n",
    "            losses.extend(l)\n",
    "            l = list()"
   ]
  },
  {
   "cell_type": "raw",
   "id": "b0f1cc14-c55f-49ce-b4bd-b4a71fa24f31",
   "metadata": {
    "tags": []
   },
   "source": [
    "plt.plot(losses)"
   ]
  }
 ],
 "metadata": {
  "kernelspec": {
   "display_name": "Python 3 (ipykernel)",
   "language": "python",
   "name": "python3"
  },
  "language_info": {
   "codemirror_mode": {
    "name": "ipython",
    "version": 3
   },
   "file_extension": ".py",
   "mimetype": "text/x-python",
   "name": "python",
   "nbconvert_exporter": "python",
   "pygments_lexer": "ipython3",
   "version": "3.11.3"
  }
 },
 "nbformat": 4,
 "nbformat_minor": 5
}
