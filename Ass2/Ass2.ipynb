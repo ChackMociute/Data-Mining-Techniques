{
 "cells": [
  {
   "cell_type": "code",
   "execution_count": 1,
   "id": "447b623d-b98b-461b-9472-40066387b375",
   "metadata": {
    "tags": []
   },
   "outputs": [],
   "source": [
    "import pickle\n",
    "import torch\n",
    "import torch.nn as nn\n",
    "import pandas as pd\n",
    "import numpy as np\n",
    "import matplotlib.pyplot as plt\n",
    "\n",
    "from sklearn.decomposition import PCA\n",
    "from tqdm import tqdm\n",
    "from gc import collect\n",
    "\n",
    "\n",
    "pd.options.mode.chained_assignment = None"
   ]
  },
  {
   "cell_type": "code",
   "execution_count": 2,
   "id": "6de346da-e671-49de-8b55-5f72a01a8626",
   "metadata": {
    "tags": []
   },
   "outputs": [],
   "source": [
    "full = pd.read_csv('training_set_VU_DM.csv', parse_dates=['date_time'])\n",
    "# df = full.sample(frac=0.01)\n",
    "# df.head()"
   ]
  },
  {
   "cell_type": "code",
   "execution_count": 3,
   "id": "999c55bb-1a6f-428f-9911-d364be61770f",
   "metadata": {
    "tags": []
   },
   "outputs": [],
   "source": [
    "fillna = dict( # Different values to replace NaNs in each column\n",
    "    visitor_hist_starrating = -1,\n",
    "    visitor_hist_adr_usd = -1,\n",
    "    prop_review_score = -1,\n",
    "    prop_location_score2 = -1,\n",
    "    srch_query_affinity_score = -1,\n",
    "    orig_destination_distance = -1,\n",
    "    **{f\"comp{i}_rate\": 0 for i in range(1, 9)},\n",
    "    **{f\"comp{i}_inv\": -1 for i in range(1, 9)},\n",
    "    **{f\"comp{i}_rate_percent_diff\": -1 for i in range(1, 9)}\n",
    ")\n",
    "missing = {f\"comp{i}_rate_missing\": f\"comp{i}_rate\" for i in range(1, 9)}"
   ]
  },
  {
   "cell_type": "code",
   "execution_count": 4,
   "id": "118e06f7-1643-43b1-b458-2135840fec33",
   "metadata": {
    "tags": []
   },
   "outputs": [],
   "source": [
    "# Add additional columns where filling in NaNs with special values isn't enough\n",
    "def fillnans(df):\n",
    "    for k, v in missing.items():\n",
    "        df[k] = df[v].isna().astype(int)\n",
    "    return df.fillna(fillna)"
   ]
  },
  {
   "cell_type": "code",
   "execution_count": 5,
   "id": "8ee9a8db-a139-49ee-b5fd-46bb7df598c2",
   "metadata": {
    "tags": []
   },
   "outputs": [],
   "source": [
    "def split_time(df):\n",
    "    # Split date_time into year, month, day, and time\n",
    "    dates = np.vstack(df.date_time.dt.strftime(\"%Y,%m,%d,%H,%M,%S\").str.split(',').map(np.asarray)).astype(int)\n",
    "    dates[:,0] -= 2000 # Years before 2000 are negative\n",
    "    df[['year', 'month', 'day']] = dates[:,:3]\n",
    "    df['time'] = (dates[:,3] * 3600 + dates[:,4] * 60 + dates[:,5]) / 86400 # Time in range 0 to 1\n",
    "    return df.drop(columns='date_time')"
   ]
  },
  {
   "cell_type": "code",
   "execution_count": 6,
   "id": "87980bef",
   "metadata": {
    "tags": []
   },
   "outputs": [],
   "source": [
    "def clean(df):\n",
    "    df = df[~(df.price_usd > df.price_usd.mean() + 3 * df.price_usd.std())] # Drop outliers\n",
    "    return df[df.price_usd != 0] # Drop instances where the property costs nothing"
   ]
  },
  {
   "cell_type": "code",
   "execution_count": 7,
   "id": "e7dd7f58-605a-401f-be92-4284db7475c8",
   "metadata": {
    "tags": []
   },
   "outputs": [],
   "source": [
    "full = clean(split_time(fillnans(full)))\n",
    "full = full.reset_index()"
   ]
  },
  {
   "cell_type": "code",
   "execution_count": 8,
   "id": "00fd2adf-f512-4572-a7e2-0def1de3a979",
   "metadata": {
    "tags": []
   },
   "outputs": [],
   "source": [
    "enc = np.load('enc.npy')\n",
    "pca = pickle.load(open(\"pca.pkl\", 'rb'))"
   ]
  },
  {
   "cell_type": "code",
   "execution_count": null,
   "id": "c82c1f33-651b-4f52-a475-acd684b3382c",
   "metadata": {
    "tags": []
   },
   "outputs": [],
   "source": [
    "full = full.drop(columns=['site_id', 'visitor_location_country_id', 'prop_country_id'])\n",
    "\n",
    "# One-hot encode categorical values\n",
    "def encode(df):\n",
    "    # Reduce the size of the one-hot encoded variables with PCA\n",
    "    return pd.concat([df, pd.DataFrame(pca.transform(enc[df.index]), index=df.index)], axis=1)"
   ]
  },
  {
   "cell_type": "raw",
   "id": "e2421f17-f66a-4e63-a44c-7712dbc966c4",
   "metadata": {
    "tags": []
   },
   "source": [
    "# TOO EXPENSIVE\n",
    "# USE PRECOMPUTED VALUES IN THE ABOVE CELL INSTEAD\n",
    "\n",
    "# One-hot encode categorical values\n",
    "def encode(df):\n",
    "    df = pd.get_dummies(df, columns=['site_id', 'visitor_location_country_id', 'prop_country_id'], dtype=int)\n",
    "    # Reduce the size of the one-hot encoded variables with PCA\n",
    "    return pd.concat([df.iloc[:,:62], pd.DataFrame(pca.transform(df.iloc[:,62:]), index=df.index)], axis=1)"
   ]
  },
  {
   "cell_type": "raw",
   "id": "1470aec5-55db-4db9-8629-1e3eb5cf4360",
   "metadata": {
    "tags": []
   },
   "source": [
    "# Find the number of principal components needed \n",
    "pca = PCA()\n",
    "pca.fit(pd.get_dummies(df, columns=['site_id', 'visitor_location_country_id', 'prop_country_id'], dtype=int).iloc[:,62:])\n",
    "(pca.explained_variance_ratio_.cumsum() < 0.99).sum() # =163"
   ]
  },
  {
   "cell_type": "raw",
   "id": "15238b1e-95a8-4900-bee2-71c4ca5aeee8",
   "metadata": {
    "tags": []
   },
   "source": [
    "df.plot('srch_id', 'price_usd', kind='scatter')\n",
    "plt.show()"
   ]
  },
  {
   "cell_type": "code",
   "execution_count": 17,
   "id": "227f5eb0-01bf-41a9-a417-c04f8a911c36",
   "metadata": {
    "tags": []
   },
   "outputs": [],
   "source": [
    "def split_data_and_targets(df):\n",
    "    metadata = df[['srch_id', 'prop_id', 'position', 'gross_bookings_usd', 'click_bool', 'booking_bool']]\n",
    "    metadata.loc[:, 'booking_bool'] *= 5\n",
    "    metadata.loc[:, 'target'] = metadata.iloc[:,-2:].max(axis=1)\n",
    "    return (\n",
    "        df.drop(columns=['srch_id', 'position', 'click_bool', 'booking_bool', 'gross_bookings_usd']),\n",
    "        metadata\n",
    "    )"
   ]
  },
  {
   "cell_type": "code",
   "execution_count": 18,
   "id": "6b298678-a82f-4629-ad22-85daeea1758e",
   "metadata": {
    "tags": []
   },
   "outputs": [],
   "source": [
    "def pipeline(df, ret='torch'):\n",
    "    df = encode(df)\n",
    "    df, metadata = split_data_and_targets(df)\n",
    "    if ret != 'torch':\n",
    "        return df, metadata\n",
    "    return (\n",
    "        torch.tensor(df.to_numpy(), dtype=torch.float32, device='cuda'),\n",
    "        torch.tensor(metadata.target.to_numpy(), dtype=torch.float32, device='cuda').reshape(-1, 1)\n",
    "    )"
   ]
  },
  {
   "cell_type": "code",
   "execution_count": 23,
   "id": "f4a798e9-ec1d-47e3-b68a-a108af9bc6dc",
   "metadata": {
    "tags": []
   },
   "outputs": [],
   "source": [
    "net = nn.Sequential(\n",
    "    nn.BatchNorm1d(221),\n",
    "    nn.Linear(221, 1024),\n",
    "    nn.ReLU(),\n",
    "    nn.Dropout(0.3),\n",
    "    nn.Linear(1024, 512),\n",
    "    nn.ReLU(),\n",
    "    nn.Dropout(0.3),\n",
    "    nn.Linear(512, 2048),\n",
    "    nn.ReLU(),\n",
    "    nn.Dropout(0.3),\n",
    "    nn.Linear(2048, 1024),\n",
    "    nn.ReLU(),\n",
    "    nn.Dropout(0.3),\n",
    "    nn.Linear(1024, 512),\n",
    "    nn.ReLU(),\n",
    "    nn.Dropout(0.3),\n",
    "    nn.BatchNorm1d(512),\n",
    "    nn.Linear(512, 128),\n",
    "    nn.ReLU(),\n",
    "    nn.Dropout(0.3),\n",
    "    nn.Linear(128, 1)\n",
    ").to('cuda')\n",
    "\n",
    "criterion = nn.MSELoss()\n",
    "optimizer = torch.optim.Adam([p for p in net.parameters() if p.requires_grad], lr=3e-4, weight_decay=1e-4)"
   ]
  },
  {
   "cell_type": "code",
   "execution_count": null,
   "id": "2ea1d9aa-95ca-4d51-bf39-b07758045496",
   "metadata": {
    "tags": []
   },
   "outputs": [],
   "source": [
    "def train(model, opt, data, targets, bs=1024):\n",
    "    losses = list()\n",
    "    for i in tqdm(range(0, len(data), bs)):\n",
    "        x, y = data[i:i+bs], targets[i:i+bs]\n",
    "        opt.zero_grad()\n",
    "        loss = criterion(model(x), y)\n",
    "        loss.backward()\n",
    "        opt.step()\n",
    "        losses.append(loss.detach().cpu())\n",
    "    return losses"
   ]
  },
  {
   "cell_type": "code",
   "execution_count": 25,
   "id": "ed06f2b3-2a6d-4654-977d-932aae3066d5",
   "metadata": {
    "tags": []
   },
   "outputs": [
    {
     "name": "stderr",
     "output_type": "stream",
     "text": [
      "100%|████████████████████████████████████████████████████████████████████████████████| 485/485 [00:08<00:00, 60.19it/s]\n",
      "100%|████████████████████████████████████████████████████████████████████████████████| 485/485 [00:07<00:00, 62.36it/s]\n",
      "100%|████████████████████████████████████████████████████████████████████████████████| 485/485 [00:07<00:00, 62.65it/s]\n",
      "100%|████████████████████████████████████████████████████████████████████████████████| 485/485 [00:07<00:00, 63.21it/s]\n",
      "100%|████████████████████████████████████████████████████████████████████████████████| 485/485 [00:07<00:00, 61.82it/s]\n"
     ]
    }
   ],
   "source": [
    "EPOCHS = 5\n",
    "bs = 1024\n",
    "\n",
    "losses = list()\n",
    "for i in range(EPOCHS):\n",
    "    net.train\n",
    "    train(lambda x: nn.functional.sigmoid(net(x)) * 5, optimizer, *pipeline(full.sample(frac=0.1)), bs=bs)"
   ]
  },
  {
   "cell_type": "code",
   "execution_count": 26,
   "id": "d88f4b68-9a88-40b5-bdf0-418c2061dfdd",
   "metadata": {
    "tags": []
   },
   "outputs": [
    {
     "data": {
      "text/plain": [
       "[<matplotlib.lines.Line2D at 0x233cc6e81d0>]"
      ]
     },
     "execution_count": 26,
     "metadata": {},
     "output_type": "execute_result"
    },
    {
     "data": {
      "image/png": "[encoded data removed]",
      "text/plain": [
       "<Figure size 640x480 with 1 Axes>"
      ]
     },
     "metadata": {},
     "output_type": "display_data"
    }
   ],
   "source": [
    "plt.plot(losses)"
   ]
  },
  {
   "cell_type": "code",
   "execution_count": 158,
   "id": "9e92cf6f-5962-42b0-ab85-8bf21b810e97",
   "metadata": {
    "tags": []
   },
   "outputs": [],
   "source": [
    "class ResNet(nn.Module):\n",
    "    def __init__(self, inp, hidden=1024):\n",
    "        super().__init__()\n",
    "        self.inp = inp\n",
    "        self.hidden = hidden\n",
    "        self.bn1 = nn.BatchNorm1d(inp)\n",
    "        self.lin1 = nn.Linear(inp, hidden)\n",
    "        self.lin2 = nn.Linear(2 * inp, hidden)\n",
    "        self.lin3 = nn.Linear(2 * inp, hidden)\n",
    "        self.lin4 = nn.Linear(2 * inp, hidden)\n",
    "        self.lin5 = nn.Linear(inp, 1)\n",
    "        self.relu = nn.ReLU()\n",
    "        self.res1 = self.res_block()\n",
    "        self.res2 = self.res_block()\n",
    "        self.res3 = self.res_block()\n",
    "        self.res4 = self.res_block()\n",
    "    \n",
    "    def res_block(self):\n",
    "        return nn.Sequential(\n",
    "            nn.BatchNorm1d(self.hidden),\n",
    "            nn.Linear(self.hidden, 2 * self.hidden),\n",
    "            nn.ReLU(),\n",
    "            nn.Dropout(0.3),\n",
    "            nn.Linear(2 * self.hidden, self.hidden),\n",
    "            nn.ReLU(),\n",
    "            nn.Dropout(0.3),\n",
    "            nn.Linear(self.hidden, self.hidden // 2),\n",
    "            nn.ReLU(),\n",
    "            nn.Dropout(0.3),\n",
    "            nn.Linear(self.hidden // 2, self.inp),\n",
    "            nn.ReLU(),\n",
    "            nn.Dropout(0.3)\n",
    "        )\n",
    "    \n",
    "    def forward(self, x):\n",
    "        y = self.relu(self.lin1(self.bn1(x)))\n",
    "        y = self.lin2(torch.hstack([self.res1(y), x]))\n",
    "        y = self.lin3(torch.hstack([self.res2(y), x]))\n",
    "        y = self.lin4(torch.hstack([self.res3(y), x]))\n",
    "        y = self.lin5(self.res4(y))\n",
    "        return nn.functional.sigmoid(y) * 5"
   ]
  },
  {
   "cell_type": "code",
   "execution_count": 161,
   "id": "3caa5ad9-1b4a-43ad-b52f-e0014d7cdda9",
   "metadata": {
    "tags": []
   },
   "outputs": [],
   "source": [
    "net = ResNet(221).to('cuda')\n",
    "optimizer = torch.optim.Adam([p for p in net.parameters() if p.requires_grad], lr=3e-5, weight_decay=1e-4)"
   ]
  },
  {
   "cell_type": "code",
   "execution_count": 167,
   "id": "f2483fee-e735-40b4-9d08-824a1d4207ce",
   "metadata": {
    "tags": []
   },
   "outputs": [
    {
     "name": "stderr",
     "output_type": "stream",
     "text": [
      "100%|████████████████████████████████████████████████████████████████████████████████| 485/485 [04:38<00:00,  1.74it/s]\n"
     ]
    },
    {
     "name": "stdout",
     "output_type": "stream",
     "text": [
      "tensor(0.7142)\n"
     ]
    },
    {
     "name": "stderr",
     "output_type": "stream",
     "text": [
      "100%|████████████████████████████████████████████████████████████████████████████████| 485/485 [04:38<00:00,  1.74it/s]\n"
     ]
    },
    {
     "name": "stdout",
     "output_type": "stream",
     "text": [
      "tensor(0.7131)\n"
     ]
    },
    {
     "name": "stderr",
     "output_type": "stream",
     "text": [
      "100%|████████████████████████████████████████████████████████████████████████████████| 485/485 [04:38<00:00,  1.74it/s]\n"
     ]
    },
    {
     "name": "stdout",
     "output_type": "stream",
     "text": [
      "tensor(0.7119)\n"
     ]
    },
    {
     "name": "stderr",
     "output_type": "stream",
     "text": [
      "100%|████████████████████████████████████████████████████████████████████████████████| 485/485 [04:38<00:00,  1.74it/s]\n"
     ]
    },
    {
     "name": "stdout",
     "output_type": "stream",
     "text": [
      "tensor(0.7108)\n"
     ]
    },
    {
     "name": "stderr",
     "output_type": "stream",
     "text": [
      "100%|████████████████████████████████████████████████████████████████████████████████| 485/485 [04:38<00:00,  1.74it/s]"
     ]
    },
    {
     "name": "stdout",
     "output_type": "stream",
     "text": [
      "tensor(0.7097)\n"
     ]
    },
    {
     "name": "stderr",
     "output_type": "stream",
     "text": [
      "\n"
     ]
    }
   ],
   "source": [
    "# losses = list()\n",
    "for i in range(EPOCHS):\n",
    "    net.train\n",
    "    l = train(net, optimizer, *pipeline(full.sample(frac=0.1)), bs=bs)\n",
    "    losses.extend(l)\n",
    "    print(sum(losses)/len(losses))"
   ]
  },
  {
   "cell_type": "code",
   "execution_count": 166,
   "id": "c1185a4d-4275-492e-b41c-37865efbde2c",
   "metadata": {
    "tags": []
   },
   "outputs": [
    {
     "data": {
      "text/plain": [
       "[<matplotlib.lines.Line2D at 0x23423314850>]"
      ]
     },
     "execution_count": 166,
     "metadata": {},
     "output_type": "execute_result"
    },
    {
     "data": {
      "image/png": "[encoded data removed]",
      "text/plain": [
       "<Figure size 640x480 with 1 Axes>"
      ]
     },
     "metadata": {},
     "output_type": "display_data"
    }
   ],
   "source": [
    "plt.plot(losses)"
   ]
  },
  {
   "cell_type": "code",
   "execution_count": 168,
   "id": "1043c05f-94cc-45b7-816e-a7cbfd343506",
   "metadata": {
    "tags": []
   },
   "outputs": [],
   "source": [
    "torch.save(net, 'ResNet.pt')"
   ]
  }
 ],
 "metadata": {
  "kernelspec": {
   "display_name": "Python 3 (ipykernel)",
   "language": "python",
   "name": "python3"
  },
  "language_info": {
   "codemirror_mode": {
    "name": "ipython",
    "version": 3
   },
   "file_extension": ".py",
   "mimetype": "text/x-python",
   "name": "python",
   "nbconvert_exporter": "python",
   "pygments_lexer": "ipython3",
   "version": "3.11.3"
  }
 },
 "nbformat": 4,
 "nbformat_minor": 5
}
